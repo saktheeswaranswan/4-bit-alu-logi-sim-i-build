{
  "nbformat": 4,
  "nbformat_minor": 0,
  "metadata": {
    "colab": {
      "provenance": [],
      "authorship_tag": "ABX9TyNnFSQ2T6xDtuyZsACZRsD8",
      "include_colab_link": true
    },
    "kernelspec": {
      "name": "python3",
      "display_name": "Python 3"
    },
    "language_info": {
      "name": "python"
    },
    "accelerator": "GPU",
    "gpuClass": "standard"
  },
  "cells": [
    {
      "cell_type": "markdown",
      "metadata": {
        "id": "view-in-github",
        "colab_type": "text"
      },
      "source": [
        "<a href=\"https://colab.research.google.com/github/saktheeswaranswan/4-bit-alu-logi-sim-i-build/blob/main/yolo_dataset_openimages_download.ipynb\" target=\"_parent\"><img src=\"https://colab.research.google.com/assets/colab-badge.svg\" alt=\"Open In Colab\"/></a>"
      ]
    },
    {
      "cell_type": "code",
      "source": [
        "!wget https://storage.googleapis.com/openimages/2018_04/image_ids_and_rotation.csv"
      ],
      "metadata": {
        "colab": {
          "base_uri": "https://localhost:8080/"
        },
        "id": "LRSSTOrjzLQz",
        "outputId": "c44fa009-77ba-407e-ca74-4cb7043a0f46"
      },
      "execution_count": 2,
      "outputs": [
        {
          "output_type": "stream",
          "name": "stdout",
          "text": [
            "--2023-02-20 17:08:58--  https://storage.googleapis.com/openimages/2018_04/image_ids_and_rotation.csv\n",
            "Resolving storage.googleapis.com (storage.googleapis.com)... 108.177.98.128, 74.125.142.128, 74.125.195.128, ...\n",
            "Connecting to storage.googleapis.com (storage.googleapis.com)|108.177.98.128|:443... connected.\n",
            "HTTP request sent, awaiting response... 200 OK\n",
            "Length: 3348497077 (3.1G) [text/csv]\n",
            "Saving to: ‘image_ids_and_rotation.csv’\n",
            "\n",
            "image_ids_and_rotat 100%[===================>]   3.12G   232MB/s    in 15s     \n",
            "\n",
            "2023-02-20 17:09:13 (216 MB/s) - ‘image_ids_and_rotation.csv’ saved [3348497077/3348497077]\n",
            "\n"
          ]
        }
      ]
    },
    {
      "cell_type": "code",
      "source": [
        "!wget https://storage.googleapis.com/openimages/v7/oidv7-train-annotations-human-imagelabels.csv"
      ],
      "metadata": {
        "colab": {
          "base_uri": "https://localhost:8080/"
        },
        "id": "2PKlydpWzSjl",
        "outputId": "bdbccc60-3aa8-4c56-b5f8-5724bb5b82d3"
      },
      "execution_count": 3,
      "outputs": [
        {
          "output_type": "stream",
          "name": "stdout",
          "text": [
            "--2023-02-20 17:09:30--  https://storage.googleapis.com/openimages/v7/oidv7-train-annotations-human-imagelabels.csv\n",
            "Resolving storage.googleapis.com (storage.googleapis.com)... 74.125.195.128, 172.253.117.128, 142.250.99.128, ...\n",
            "Connecting to storage.googleapis.com (storage.googleapis.com)|74.125.195.128|:443... connected.\n",
            "HTTP request sent, awaiting response... 200 OK\n",
            "Length: 2735816020 (2.5G) [text/csv]\n",
            "Saving to: ‘oidv7-train-annotations-human-imagelabels.csv’\n",
            "\n",
            "oidv7-train-annotat 100%[===================>]   2.55G   171MB/s    in 17s     \n",
            "\n",
            "2023-02-20 17:09:47 (155 MB/s) - ‘oidv7-train-annotations-human-imagelabels.csv’ saved [2735816020/2735816020]\n",
            "\n"
          ]
        }
      ]
    },
    {
      "cell_type": "code",
      "source": [
        "!wget https://storage.googleapis.com/openimages/v7/oidv7-class-descriptions-boxable.csv"
      ],
      "metadata": {
        "colab": {
          "base_uri": "https://localhost:8080/"
        },
        "id": "_vh7AwKY16VX",
        "outputId": "644da33d-0b46-4267-a367-7300fca061dd"
      },
      "execution_count": 11,
      "outputs": [
        {
          "output_type": "stream",
          "name": "stdout",
          "text": [
            "--2023-02-20 17:20:57--  https://storage.googleapis.com/openimages/v7/oidv7-class-descriptions-boxable.csv\n",
            "Resolving storage.googleapis.com (storage.googleapis.com)... 74.125.197.128, 74.125.135.128, 173.194.202.128, ...\n",
            "Connecting to storage.googleapis.com (storage.googleapis.com)|74.125.197.128|:443... connected.\n",
            "HTTP request sent, awaiting response... 200 OK\n",
            "Length: 12064 (12K) [text/csv]\n",
            "Saving to: ‘oidv7-class-descriptions-boxable.csv’\n",
            "\n",
            "\r          oidv7-cla   0%[                    ]       0  --.-KB/s               \roidv7-class-descrip 100%[===================>]  11.78K  --.-KB/s    in 0s      \n",
            "\n",
            "2023-02-20 17:20:57 (73.5 MB/s) - ‘oidv7-class-descriptions-boxable.csv’ saved [12064/12064]\n",
            "\n"
          ]
        }
      ]
    },
    {
      "cell_type": "code",
      "execution_count": 15,
      "metadata": {
        "colab": {
          "base_uri": "https://localhost:8080/"
        },
        "id": "uDtzN06WyL7Z",
        "outputId": "c1b20f53-7fe1-41f9-e1b4-0938c1bf5783"
      },
      "outputs": [
        {
          "output_type": "stream",
          "name": "stdout",
          "text": [
            "Class 0 : Car\n",
            "grep /m/0k4j train-annotations-bbox.csv\n",
            "Total number of annotations : 0\n"
          ]
        }
      ],
      "source": [
        "import csv\n",
        "import subprocess\n",
        "import os\n",
        "import multiprocessing\n",
        "\n",
        "\n",
        "def download(line):\n",
        "\n",
        "    lineParts = line.split(',')\n",
        "    print(\"downloading {}...\".format(lineParts[0]))\n",
        "    subprocess.run([ 'aws', 's3', '--no-sign-request', '--only-show-errors', 'cp', 's3://open-images-dataset/'+runMode+'/'+lineParts[0]+\".jpg\", 'JPEGImages/'+lineParts[0]+\".jpg\"])\n",
        "    with open('labels/%s.txt'%(lineParts[0]),'a') as f:\n",
        "        f.write(' '.join([str(ind),str((float(lineParts[5]) + float(lineParts[4]))/2), str((float(lineParts[7]) + float(lineParts[6]))/2), str(float(lineParts[5])-float(lineParts[4])),str(float(lineParts[7])-float(lineParts[6]))])+'\\n')\n",
        "\n",
        "\n",
        "runMode = \"train\"\n",
        "classes = [\"Car\"]\n",
        "\n",
        "with open('/content/oidv7-class-descriptions-boxable.csv', mode='r') as infile:\n",
        "    reader = csv.reader(infile)\n",
        "    dict_list = {rows[1]:rows[0] for rows in reader}\n",
        "\n",
        "# Commented out to enable resuming the download later\n",
        "# subprocess.run(['rm', '-rf', 'JPEGImages'])\n",
        "# subprocess.run([ 'mkdir', 'JPEGImages'])\n",
        "\n",
        "# subprocess.run(['rm', '-rf', 'labels'])\n",
        "# subprocess.run([ 'mkdir', 'labels'])\n",
        "\n",
        "# This variable enables pausing/continuing download\n",
        "already_down = 0\n",
        "\n",
        "for ind in range(0, len(classes)):\n",
        "    \n",
        "    className = classes[ind]\n",
        "    print(\"Class \" + str(ind) + \" : \" + className)\n",
        "\n",
        "    commandStr = \"grep \" + dict_list[className] + \" \" + runMode + \"-annotations-bbox.csv\"\n",
        "    print(commandStr)\n",
        "    class_annotations = subprocess.run(commandStr.split(), stdout=subprocess.PIPE).stdout.decode('utf-8')\n",
        "    class_annotations = class_annotations.splitlines()\n",
        "\n",
        "    totalNumOfAnnotations = len(class_annotations)\n",
        "    print(\"Total number of annotations : \"+str(totalNumOfAnnotations))\n",
        "\n",
        "    pool = multiprocessing.Pool()\n",
        "    pool.map(download, class_annotations[already_down:totalNumOfAnnotations], 1000)"
      ]
    },
    {
      "cell_type": "code",
      "source": [
        "!wget https://storage.googleapis.com/openimages/v7/oidv7-class-descriptions.csv"
      ],
      "metadata": {
        "colab": {
          "base_uri": "https://localhost:8080/"
        },
        "id": "IVVF_ZMQ0iTF",
        "outputId": "00bda726-3da3-461f-988c-0d04101a38b8"
      },
      "execution_count": 6,
      "outputs": [
        {
          "output_type": "stream",
          "name": "stdout",
          "text": [
            "--2023-02-20 17:14:58--  https://storage.googleapis.com/openimages/v7/oidv7-class-descriptions.csv\n",
            "Resolving storage.googleapis.com (storage.googleapis.com)... 74.125.197.128, 74.125.135.128, 173.194.202.128, ...\n",
            "Connecting to storage.googleapis.com (storage.googleapis.com)|74.125.197.128|:443... connected.\n",
            "HTTP request sent, awaiting response... 200 OK\n",
            "Length: 501178 (489K) [text/csv]\n",
            "Saving to: ‘oidv7-class-descriptions.csv’\n",
            "\n",
            "\r          oidv7-cla   0%[                    ]       0  --.-KB/s               \roidv7-class-descrip 100%[===================>] 489.43K  --.-KB/s    in 0.005s  \n",
            "\n",
            "2023-02-20 17:14:58 (101 MB/s) - ‘oidv7-class-descriptions.csv’ saved [501178/501178]\n",
            "\n"
          ]
        }
      ]
    },
    {
      "cell_type": "code",
      "source": [
        "!wget https://raw.githubusercontent.com/openimages/dataset/master/downloader.py\n"
      ],
      "metadata": {
        "colab": {
          "base_uri": "https://localhost:8080/"
        },
        "id": "EF9-T4rM1gHy",
        "outputId": "13fccee8-9571-4cf1-f594-78a20c2aee7a"
      },
      "execution_count": 9,
      "outputs": [
        {
          "output_type": "stream",
          "name": "stdout",
          "text": [
            "--2023-02-20 17:19:12--  https://raw.githubusercontent.com/openimages/dataset/master/downloader.py\n",
            "Resolving raw.githubusercontent.com (raw.githubusercontent.com)... 185.199.111.133, 185.199.110.133, 185.199.109.133, ...\n",
            "Connecting to raw.githubusercontent.com (raw.githubusercontent.com)|185.199.111.133|:443... connected.\n",
            "HTTP request sent, awaiting response... 200 OK\n",
            "Length: 4244 (4.1K) [text/plain]\n",
            "Saving to: ‘downloader.py’\n",
            "\n",
            "downloader.py       100%[===================>]   4.14K  --.-KB/s    in 0s      \n",
            "\n",
            "2023-02-20 17:19:12 (52.5 MB/s) - ‘downloader.py’ saved [4244/4244]\n",
            "\n"
          ]
        }
      ]
    },
    {
      "cell_type": "code",
      "source": [
        "!python downloader.py $IMAGE_LIST_FILE --download_folder=$DOWNLOAD_FOLDER --num_processes=5\n"
      ],
      "metadata": {
        "colab": {
          "base_uri": "https://localhost:8080/"
        },
        "id": "-TjWCCYW1jrO",
        "outputId": "fa86153c-e1c8-408b-be02-7851f3abb30a"
      },
      "execution_count": 10,
      "outputs": [
        {
          "output_type": "stream",
          "name": "stdout",
          "text": [
            "Traceback (most recent call last):\n",
            "  File \"downloader.py\", line 40, in <module>\n",
            "    import boto3\n",
            "ModuleNotFoundError: No module named 'boto3'\n"
          ]
        }
      ]
    }
  ]
}