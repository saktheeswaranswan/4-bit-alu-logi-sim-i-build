{
  "nbformat": 4,
  "nbformat_minor": 0,
  "metadata": {
    "colab": {
      "provenance": [],
      "authorship_tag": "ABX9TyPfF0eGl71T32FYuOvW5D5F",
      "include_colab_link": true
    },
    "kernelspec": {
      "name": "python3",
      "display_name": "Python 3"
    },
    "language_info": {
      "name": "python"
    }
  },
  "cells": [
    {
      "cell_type": "markdown",
      "metadata": {
        "id": "view-in-github",
        "colab_type": "text"
      },
      "source": [
        "<a href=\"https://colab.research.google.com/github/saktheeswaranswan/4-bit-alu-logi-sim-i-build/blob/main/pre_process_dataset.ipynb\" target=\"_parent\"><img src=\"https://colab.research.google.com/assets/colab-badge.svg\" alt=\"Open In Colab\"/></a>"
      ]
    },
    {
      "cell_type": "code",
      "execution_count": 9,
      "metadata": {
        "colab": {
          "base_uri": "https://localhost:8080/"
        },
        "id": "a4yoroKke1KE",
        "outputId": "cd67d9ea-8e53-4a32-8052-6f02c4313c2d"
      },
      "outputs": [
        {
          "output_type": "stream",
          "name": "stdout",
          "text": [
            "Preprocessed data:\n",
            "   Id  SepalLengthCm  SepalWidthCm  PetalLengthCm  PetalWidthCm  Species\n",
            "0   1            5.1           3.5            1.4           0.2        0\n",
            "1   2            4.9           3.0            1.4           0.2        0\n",
            "2   3            4.7           3.2            1.3           0.2        0\n",
            "3   4            4.6           3.1            1.5           0.2        0\n",
            "4   5            5.0           3.6            1.4           0.2        0\n",
            "Training data shape: (120, 5) (120,)\n",
            "Testing data shape: (30, 5) (30,)\n"
          ]
        }
      ],
      "source": [
        "import pandas as pd\n",
        "from sklearn.preprocessing import LabelEncoder, StandardScaler\n",
        "from sklearn.model_selection import train_test_split\n",
        "\n",
        "# Load the Iris dataset into a pandas dataframe\n",
        "df = pd.read_csv('/content/Iris.csv')\n",
        "\n",
        "# Convert categorical values in Species column to numerical using label encoding\n",
        "le = LabelEncoder()\n",
        "df['Species'] = le.fit_transform(df['Species'])\n",
        "\n",
        "# Drop any rows with missing values\n",
        "df.dropna(inplace=True)\n",
        "\n",
        "# Scale the data using standardization technique\n",
        "scaler = StandardScaler()\n",
        "scaled_data = scaler.fit_transform(df.drop('Species', axis=1))\n",
        "\n",
        "# Split the data into training and testing sets\n",
        "X_train, X_test, y_train, y_test = train_test_split(scaled_data, df['Species'], test_size=0.2)\n",
        "\n",
        "# Print the first five rows of the preprocessed data\n",
        "print('Preprocessed data:')\n",
        "print(df.head())\n",
        "\n",
        "# Print the shapes of the training and testing sets\n",
        "print('Training data shape:', X_train.shape, y_train.shape)\n",
        "print('Testing data shape:', X_test.shape, y_test.shape)\n"
      ]
    },
    {
      "cell_type": "code",
      "source": [
        "import pandas as pd\n",
        "from sklearn.preprocessing import LabelEncoder, StandardScaler\n",
        "from sklearn.impute import SimpleImputer\n",
        "from sklearn.model_selection import train_test_split\n",
        "\n",
        "# Load the dataset into a pandas dataframe\n",
        "df = pd.read_csv('/content/Iris.csv')\n",
        "\n",
        "# Convert Species categorical values to numerical using label encoding\n",
        "label_encoder = LabelEncoder()\n",
        "df['Species'] = label_encoder.fit_transform(df['Species'])\n",
        "\n",
        "# Split the data into features and target\n",
        "X = df.drop(['Species'], axis=1)\n",
        "y = df['Species']\n",
        "\n",
        "# Impute missing values using mean strategy\n",
        "imputer = SimpleImputer(strategy='mean')\n",
        "X = imputer.fit_transform(X)\n",
        "\n",
        "# Scale the data using standardization\n",
        "scaler = StandardScaler()\n",
        "X = scaler.fit_transform(X)\n",
        "\n",
        "# Split the data into training and testing sets\n",
        "X_train, X_test, y_train, y_test = train_test_split(X, y, test_size=0.2)\n"
      ],
      "metadata": {
        "id": "a63xyO9gilFp"
      },
      "execution_count": 13,
      "outputs": []
    },
    {
      "cell_type": "code",
      "source": [
        "import pandas as pd\n",
        "from sklearn.preprocessing import LabelEncoder\n",
        "from sklearn.impute import SimpleImputer\n",
        "\n",
        "# Load the dataset into a pandas dataframe\n",
        "df = pd.read_csv('/content/Iris.csv')\n",
        "\n",
        "# Convert the Species categorical value to numerical\n",
        "le = LabelEncoder()\n",
        "df['Species'] = le.fit_transform(df['Species'])\n",
        "\n",
        "# Impute missing values with the mean of the column\n",
        "imputer = SimpleImputer(strategy='mean')\n",
        "imputed_data = imputer.fit_transform(df)\n",
        "\n",
        "# Scale the data using standardization or normalization techniques\n",
        "from sklearn.preprocessing import StandardScaler\n",
        "scaler = StandardScaler()\n",
        "scaled_data = scaler.fit_transform(imputed_data)\n",
        "\n",
        "# Convert the preprocessed data into a dataframe\n",
        "preprocessed_df = pd.DataFrame(scaled_data, columns=df.columns)\n",
        "\n",
        "# Export the preprocessed data as a CSV file\n",
        "preprocessed_df.to_csv('preprocessed_iris.csv', index=False)\n"
      ],
      "metadata": {
        "id": "3eXNrV3qi0M1"
      },
      "execution_count": 12,
      "outputs": []
    }
  ]
}