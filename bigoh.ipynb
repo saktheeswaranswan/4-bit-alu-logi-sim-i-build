{
  "nbformat": 4,
  "nbformat_minor": 0,
  "metadata": {
    "colab": {
      "provenance": [],
      "authorship_tag": "ABX9TyNxOVkbn2sT2WP6s+QFLJm8",
      "include_colab_link": true
    },
    "kernelspec": {
      "name": "python3",
      "display_name": "Python 3"
    },
    "language_info": {
      "name": "python"
    }
  },
  "cells": [
    {
      "cell_type": "markdown",
      "metadata": {
        "id": "view-in-github",
        "colab_type": "text"
      },
      "source": [
        "<a href=\"https://colab.research.google.com/github/saktheeswaranswan/4-bit-alu-logi-sim-i-build/blob/main/bigoh.ipynb\" target=\"_parent\"><img src=\"https://colab.research.google.com/assets/colab-badge.svg\" alt=\"Open In Colab\"/></a>"
      ]
    },
    {
      "cell_type": "code",
      "source": [
        "!pip install gplearn\n"
      ],
      "metadata": {
        "colab": {
          "base_uri": "https://localhost:8080/"
        },
        "id": "kC1FokDPDXNa",
        "outputId": "57140616-9c47-45d1-fc11-55000fa74f9c"
      },
      "execution_count": 2,
      "outputs": [
        {
          "output_type": "stream",
          "name": "stdout",
          "text": [
            "Looking in indexes: https://pypi.org/simple, https://us-python.pkg.dev/colab-wheels/public/simple/\n",
            "Collecting gplearn\n",
            "  Downloading gplearn-0.4.2-py3-none-any.whl (25 kB)\n",
            "Requirement already satisfied: joblib>=1.0.0 in /usr/local/lib/python3.8/dist-packages (from gplearn) (1.2.0)\n",
            "Requirement already satisfied: scikit-learn>=1.0.2 in /usr/local/lib/python3.8/dist-packages (from gplearn) (1.0.2)\n",
            "Requirement already satisfied: threadpoolctl>=2.0.0 in /usr/local/lib/python3.8/dist-packages (from scikit-learn>=1.0.2->gplearn) (3.1.0)\n",
            "Requirement already satisfied: numpy>=1.14.6 in /usr/local/lib/python3.8/dist-packages (from scikit-learn>=1.0.2->gplearn) (1.22.4)\n",
            "Requirement already satisfied: scipy>=1.1.0 in /usr/local/lib/python3.8/dist-packages (from scikit-learn>=1.0.2->gplearn) (1.7.3)\n",
            "Installing collected packages: gplearn\n",
            "Successfully installed gplearn-0.4.2\n"
          ]
        }
      ]
    },
    {
      "cell_type": "code",
      "execution_count": 7,
      "metadata": {
        "colab": {
          "base_uri": "https://localhost:8080/",
          "height": 357
        },
        "id": "2D2MVTuFCYZt",
        "outputId": "f78e03a2-e755-448d-b93d-f4610052c1c3"
      },
      "outputs": [
        {
          "output_type": "error",
          "ename": "ValueError",
          "evalue": "ignored",
          "traceback": [
            "\u001b[0;31m---------------------------------------------------------------------------\u001b[0m",
            "\u001b[0;31mValueError\u001b[0m                                Traceback (most recent call last)",
            "\u001b[0;32m<ipython-input-7-171e701b9046>\u001b[0m in \u001b[0;36m<module>\u001b[0;34m\u001b[0m\n\u001b[1;32m     38\u001b[0m \u001b[0;34m\u001b[0m\u001b[0m\n\u001b[1;32m     39\u001b[0m     \u001b[0;31m# Fit the regressor to the data\u001b[0m\u001b[0;34m\u001b[0m\u001b[0;34m\u001b[0m\u001b[0;34m\u001b[0m\u001b[0m\n\u001b[0;32m---> 40\u001b[0;31m     \u001b[0mest\u001b[0m\u001b[0;34m.\u001b[0m\u001b[0mfit\u001b[0m\u001b[0;34m(\u001b[0m\u001b[0mX\u001b[0m\u001b[0;34m,\u001b[0m \u001b[0my\u001b[0m\u001b[0;34m)\u001b[0m\u001b[0;34m\u001b[0m\u001b[0;34m\u001b[0m\u001b[0m\n\u001b[0m\u001b[1;32m     41\u001b[0m \u001b[0;34m\u001b[0m\u001b[0m\n\u001b[1;32m     42\u001b[0m     \u001b[0;31m# Print the equation of the best fit function and its correlation coefficient\u001b[0m\u001b[0;34m\u001b[0m\u001b[0;34m\u001b[0m\u001b[0;34m\u001b[0m\u001b[0m\n",
            "\u001b[0;32m/usr/local/lib/python3.8/dist-packages/gplearn/genetic.py\u001b[0m in \u001b[0;36mfit\u001b[0;34m(self, X, y, sample_weight)\u001b[0m\n\u001b[1;32m    337\u001b[0m                 \u001b[0mself\u001b[0m\u001b[0;34m.\u001b[0m\u001b[0m_function_set\u001b[0m\u001b[0;34m.\u001b[0m\u001b[0mappend\u001b[0m\u001b[0;34m(\u001b[0m\u001b[0mfunction\u001b[0m\u001b[0;34m)\u001b[0m\u001b[0;34m\u001b[0m\u001b[0;34m\u001b[0m\u001b[0m\n\u001b[1;32m    338\u001b[0m             \u001b[0;32melse\u001b[0m\u001b[0;34m:\u001b[0m\u001b[0;34m\u001b[0m\u001b[0;34m\u001b[0m\u001b[0m\n\u001b[0;32m--> 339\u001b[0;31m                 raise ValueError('invalid type %s found in `function_set`.'\n\u001b[0m\u001b[1;32m    340\u001b[0m                                  % type(function))\n\u001b[1;32m    341\u001b[0m         \u001b[0;32mif\u001b[0m \u001b[0;32mnot\u001b[0m \u001b[0mself\u001b[0m\u001b[0;34m.\u001b[0m\u001b[0m_function_set\u001b[0m\u001b[0;34m:\u001b[0m\u001b[0;34m\u001b[0m\u001b[0;34m\u001b[0m\u001b[0m\n",
            "\u001b[0;31mValueError\u001b[0m: invalid type <class 'tuple'> found in `function_set`."
          ]
        }
      ],
      "source": [
        "import pandas as pd\n",
        "import numpy as np\n",
        "from gplearn.genetic import SymbolicRegressor\n",
        "\n",
        "# Load data from CSV file\n",
        "data = pd.read_csv('data.csv')\n",
        "\n",
        "# Split data into X and y arrays\n",
        "X = np.array(data['x']).reshape(-1, 1)\n",
        "y = np.array(data['y'])\n",
        "\n",
        "# Define range of coefficients to try\n",
        "coeff_range = (-10.0, 10.0)\n",
        "\n",
        "# Define the symbolic regressor\n",
        "est = SymbolicRegressor(population_size=1000, generations=20,\n",
        "                         stopping_criteria=0.0001, p_crossover=0.7,\n",
        "                         p_subtree_mutation=0.1, p_hoist_mutation=0.05,\n",
        "                         p_point_mutation=0.1, max_samples=0.9,\n",
        "                         verbose=1, const_range=coeff_range)\n",
        "\n",
        "# Define the function set to try\n",
        "function_set = ['add', 'sub', 'mul', 'div', 'sin', 'cos', 'log']\n",
        "\n",
        "# Try different combinations of jumbled functions and coefficients\n",
        "best_coef = None\n",
        "best_program = None\n",
        "best_score = None\n",
        "for i in range(100):\n",
        "    # Randomly jumble the functions and coefficients\n",
        "    coef = np.random.uniform(*coeff_range, size=len(function_set))\n",
        "    jumbled_function_set = []\n",
        "    for j, func in enumerate(function_set):\n",
        "        jumbled_function_set.append((func, coef[j]))\n",
        "\n",
        "    # Set the jumbled function set for the regressor\n",
        "    est.function_set = jumbled_function_set\n",
        "\n",
        "    # Fit the regressor to the data\n",
        "    est.fit(X, y)\n",
        "\n",
        "    # Print the equation of the best fit function and its correlation coefficient\n",
        "    score = est.score(X, y)\n",
        "    print(f'{i}: Best fit function: {est._program}, correlation coefficient: {score}')\n",
        "\n",
        "    # Keep track of the best combination of jumbled functions and coefficients\n",
        "    if (best_score is None or abs(score - (-0.9899999)) < abs(best_score - (-0.9899999))) or \\\n",
        "            (abs(score - 0.9999999) > abs(best_score - 0.9999999) and score > 0.99):\n",
        "        best_coef = coef\n",
        "        best_program = est._program\n",
        "        best_score = score\n",
        "\n",
        "# Print the best combination of jumbled functions and coefficients\n",
        "print(f'Best combination of jumbled functions and coefficients: {best_coef}')\n",
        "print(f'Best fit function: {best_program}, correlation coefficient: {best_score}')\n"
      ]
    },
    {
      "cell_type": "code",
      "source": [
        "import time\n",
        "import numpy as np\n",
        "import matplotlib.pyplot as plt\n",
        "\n",
        "def measure_time_complexity(func, input_sizes):\n",
        "    \"\"\"\n",
        "    Measures the time complexity of a function for different input sizes.\n",
        "    Returns three arrays: the input sizes, the minimum execution times, and the maximum execution times.\n",
        "    \"\"\"\n",
        "    min_times = []\n",
        "    max_times = []\n",
        "    for n in input_sizes:\n",
        "        # Generate the input data\n",
        "        data = np.random.randint(0, 100, size=n)\n",
        "\n",
        "        # Measure the execution time\n",
        "        times = []\n",
        "        for i in range(10):\n",
        "            start_time = time.time()\n",
        "            func(data)\n",
        "            end_time = time.time()\n",
        "            times.append(end_time - start_time)\n",
        "        min_times.append(np.min(times))\n",
        "        max_times.append(np.max(times))\n",
        "\n",
        "    return input_sizes, min_times, max_times\n",
        "\n",
        "def plot_time_complexity(input_sizes, min_times, max_times, big_o, big_theta, big_omega):\n",
        "    \"\"\"\n",
        "    Plots the Big-O, Big-Theta, and Big-Omega curves of the time complexity data.\n",
        "    \"\"\"\n",
        "    plt.plot(input_sizes, big_o, label='Big-O')\n",
        "    plt.plot(input_sizes, big_theta, label='Big-Theta')\n",
        "    plt.plot(input_sizes, big_omega, label='Big-Omega')\n",
        "    plt.fill_between(input_sizes, min_times, max_times, alpha=0.2)\n",
        "    plt.legend(loc='upper left')\n",
        "    plt.xlabel('Input Size')\n",
        "    plt.ylabel('Time (Seconds)')\n",
        "    plt.show()\n",
        "\n",
        "def example_function(data):\n",
        "    \"\"\"\n",
        "    An example function to measure the time complexity of.\n",
        "    This function takes an array of integers and returns the sum of the even integers.\n",
        "    \"\"\"\n",
        "    result = 0\n",
        "    for x in data:\n",
        "        if x % 2 == 0:\n",
        "            result += x\n",
        "    return result\n",
        "\n",
        "# Define the input sizes to test\n",
        "input_sizes = np.linspace(100, 1000, 10, dtype=int)\n",
        "\n",
        "# Measure the time complexity of the example function\n",
        "input_sizes, min_times, max_times = measure_time_complexity(example_function, input_sizes)\n",
        "\n",
        "# Plot the Big-O, Big-Theta, and Big-Omega curves\n",
        "plot_time_complexity(input_sizes, min_times, max_times, input_sizes, input_sizes, input_sizes)\n"
      ],
      "metadata": {
        "colab": {
          "base_uri": "https://localhost:8080/",
          "height": 279
        },
        "id": "5uuuV_pNFiyV",
        "outputId": "3f2bcc6e-3844-4967-a709-0cdf5bb6bbb0"
      },
      "execution_count": 9,
      "outputs": [
        {
          "output_type": "display_data",
          "data": {
            "text/plain": [
              "<Figure size 432x288 with 1 Axes>"
            ],
            "image/png": "[encoded data removed]"
          },
          "metadata": {
            "needs_background": "light"
          }
        }
      ]
    },
    {
      "cell_type": "code",
      "source": [
        "import time\n",
        "import numpy as np\n",
        "import matplotlib.pyplot as plt\n",
        "\n",
        "import sys\n",
        "\n",
        "sys.setrecursionlimit(10000) # set the recursion limit to 10000\n",
        "\n",
        "def iterative_function(n):\n",
        "    result = 1\n",
        "    for i in range(1, n+1):\n",
        "        result *= i\n",
        "    return result\n",
        "\n",
        "print(iterative_function(1000))\n",
        "\n",
        "        \n",
        "\n",
        "\n",
        "def measure_time_complexity(func, input_sizes):\n",
        "    min_times = []\n",
        "    max_times = []\n",
        "    for n in input_sizes:\n",
        "        start_time = time.time()\n",
        "        func(n)\n",
        "        end_time = time.time()\n",
        "        min_times.append(end_time - start_time)\n",
        "        max_times.append(end_time - start_time)\n",
        "    return input_sizes, min_times, max_times\n",
        "\n",
        "def plot_time_complexity(input_sizes, min_times, max_times, big_o, big_theta, big_omega):\n",
        "    plt.plot(input_sizes, big_o, label='Big-O')\n",
        "    plt.plot(input_sizes, big_theta, label='Big-Theta')\n",
        "    plt.plot(input_sizes, big_omega, label='Big-Omega')\n",
        "    plt.fill_between(input_sizes, min_times, max_times, alpha=0.2)\n",
        "    plt.legend(loc='upper left')\n",
        "    plt.xlabel('Input Size')\n",
        "    plt.ylabel('Time (Seconds)')\n",
        "    plt.show()\n",
        "\n",
        "# Define the input sizes to test\n",
        "input_sizes = np.linspace(100, 1000, 10, dtype=int)\n",
        "\n",
        "# Measure the time complexity of the recursive n sum function\n",
        "input_sizes, min_times, max_times = measure_time_complexity(recursive_n_sum, input_sizes)\n",
        "\n",
        "# Plot the Big-O, Big-Theta, and Big-Omega curves\n",
        "plot_time_complexity(input_sizes, min_times, max_times, input_sizes**2, input_sizes**2, input_sizes)\n"
      ],
      "metadata": {
        "colab": {
          "base_uri": "https://localhost:8080/",
          "height": 327
        },
        "id": "Jvel9l3cJXZu",
        "outputId": "69f6858b-1e90-4ec2-a65d-13c9be32a077"
      },
      "execution_count": 15,
      "outputs": [
        {
          "output_type": "stream",
          "name": "stdout",
          "text": [
            "402387260077093773543702433923003985719374864210714632543799910429938512398629020592044208486969404800479988610197196058631666872994808558901323829669944590997424504087073759918823627727188732519779505950995276120874975462497043601418278094646496291056393887437886487337119181045825783647849977012476632889835955735432513185323958463075557409114262417474349347553428646576611667797396668820291207379143853719588249808126867838374559731746136085379534524221586593201928090878297308431392844403281231558611036976801357304216168747609675871348312025478589320767169132448426236131412508780208000261683151027341827977704784635868170164365024153691398281264810213092761244896359928705114964975419909342221566832572080821333186116811553615836546984046708975602900950537616475847728421889679646244945160765353408198901385442487984959953319101723355556602139450399736280750137837615307127761926849034352625200015888535147331611702103968175921510907788019393178114194545257223865541461062892187960223838971476088506276862967146674697562911234082439208160153780889893964518263243671616762179168909779911903754031274622289988005195444414282012187361745992642956581746628302955570299024324153181617210465832036786906117260158783520751516284225540265170483304226143974286933061690897968482590125458327168226458066526769958652682272807075781391858178889652208164348344825993266043367660176999612831860788386150279465955131156552036093988180612138558600301435694527224206344631797460594682573103790084024432438465657245014402821885252470935190620929023136493273497565513958720559654228749774011413346962715422845862377387538230483865688976461927383814900140767310446640259899490222221765904339901886018566526485061799702356193897017860040811889729918311021171229845901641921068884387121855646124960798722908519296819372388642614839657382291123125024186649353143970137428531926649875337218940694281434118520158014123344828015051399694290153483077644569099073152433278288269864602789864321139083506217095002597389863554277196742822248757586765752344220207573630569498825087968928162753848863396909959826280956121450994871701244516461260379029309120889086942028510640182154399457156805941872748998094254742173582401063677404595741785160829230135358081840096996372524230560855903700624271243416909004153690105933983835777939410970027753472000000000000000000000000000000000000000000000000000000000000000000000000000000000000000000000000000000000000000000000000000000000000000000000000000000000000000000000000000000000000000000000000000000000000000000000000000000000000000000000000000000000\n"
          ]
        },
        {
          "output_type": "display_data",
          "data": {
            "text/plain": [
              "<Figure size 432x288 with 1 Axes>"
            ],
            "image/png": "[encoded data removed]"
          },
          "metadata": {
            "needs_background": "light"
          }
        }
      ]
    },
    {
      "cell_type": "code",
      "source": [
        "import time\n",
        "\n",
        "# Define the function to benchmark\n",
        "def algorithm(n):\n",
        "    result = 0\n",
        "    for i in range(n):\n",
        "        result += i\n",
        "    return result\n",
        "\n",
        "# Define the upper bound function for big O notation\n",
        "def upper_bound(n):\n",
        "    return n * (n-1) / 2\n",
        "\n",
        "# Define the lower bound function for big omega notation\n",
        "def lower_bound(n):\n",
        "    return n / 2\n",
        "\n",
        "# Define the tight bound function for big theta notation\n",
        "def tight_bound(n):\n",
        "    return upper_bound(n) if n % 2 == 0 else upper_bound(n-1)\n",
        "\n",
        "# Set the input sizes to test\n",
        "input_sizes = [10, 100, 1000, 10000]\n",
        "\n",
        "# Benchmark the algorithm for each input size\n",
        "for n in input_sizes:\n",
        "    start_time = time.time()\n",
        "    algorithm(n)\n",
        "    end_time = time.time()\n",
        "\n",
        "    # Print the results for each input size\n",
        "    print(f\"Input size: {n}\")\n",
        "    print(f\"Time taken: {end_time - start_time:.6f} seconds\")\n",
        "    print(f\"Big O upper bound: {upper_bound(n)}\")\n",
        "    print(f\"Big Omega lower bound: {lower_bound(n)}\")\n",
        "    print(f\"Big Theta tight bound: {tight_bound(n)}\")\n",
        "    print()\n"
      ],
      "metadata": {
        "colab": {
          "base_uri": "https://localhost:8080/"
        },
        "id": "f7axDJWKKw87",
        "outputId": "52955033-ea86-4d08-89ca-69e30001b8c9"
      },
      "execution_count": 16,
      "outputs": [
        {
          "output_type": "stream",
          "name": "stdout",
          "text": [
            "Input size: 10\n",
            "Time taken: 0.000005 seconds\n",
            "Big O upper bound: 45.0\n",
            "Big Omega lower bound: 5.0\n",
            "Big Theta tight bound: 45.0\n",
            "\n",
            "Input size: 100\n",
            "Time taken: 0.000017 seconds\n",
            "Big O upper bound: 4950.0\n",
            "Big Omega lower bound: 50.0\n",
            "Big Theta tight bound: 4950.0\n",
            "\n",
            "Input size: 1000\n",
            "Time taken: 0.000108 seconds\n",
            "Big O upper bound: 499500.0\n",
            "Big Omega lower bound: 500.0\n",
            "Big Theta tight bound: 499500.0\n",
            "\n",
            "Input size: 10000\n",
            "Time taken: 0.001103 seconds\n",
            "Big O upper bound: 49995000.0\n",
            "Big Omega lower bound: 5000.0\n",
            "Big Theta tight bound: 49995000.0\n",
            "\n"
          ]
        }
      ]
    },
    {
      "cell_type": "code",
      "source": [
        "import matplotlib.pyplot as plt\n",
        "import numpy as np\n",
        "import time\n",
        "\n",
        "# Define the function to benchmark\n",
        "def algorithm(n):\n",
        "    result = 0\n",
        "    for i in range(n):\n",
        "        result += i\n",
        "    return result\n",
        "\n",
        "# Define the upper bound function for big O notation\n",
        "def upper_bound(n):\n",
        "    return n * (n-1) / 2\n",
        "\n",
        "# Define the lower bound function for big omega notation\n",
        "def lower_bound(n):\n",
        "    return n / 2\n",
        "\n",
        "# Define the tight bound function for big theta notation\n",
        "def tight_bound(n):\n",
        "    return upper_bound(n) if n % 2 == 0 else upper_bound(n-1)\n",
        "\n",
        "# Set the input sizes to test\n",
        "input_sizes = [10, 100, 1000, 10000]\n",
        "\n",
        "# Initialize arrays to store the results\n",
        "times = np.zeros(len(input_sizes))\n",
        "big_o = np.zeros(len(input_sizes))\n",
        "big_omega = np.zeros(len(input_sizes))\n",
        "big_theta = np.zeros(len(input_sizes))\n",
        "\n",
        "# Benchmark the algorithm for each input size\n",
        "for i, n in enumerate(input_sizes):\n",
        "    start_time = time.time()\n",
        "    algorithm(n)\n",
        "    end_time = time.time()\n",
        "\n",
        "    # Store the results for each input size\n",
        "    times[i] = end_time - start_time\n",
        "    big_o[i] = upper_bound(n)\n",
        "    big_omega[i] = lower_bound(n)\n",
        "    big_theta[i] = tight_bound(n)\n",
        "\n",
        "# Create a plot of the results\n",
        "plt.plot(input_sizes, times, label='Time taken')\n",
        "plt.plot(input_sizes, big_o, label='Big O')\n",
        "plt.plot(input_sizes, big_omega, label='Big Omega')\n",
        "plt.plot(input_sizes, big_theta, label='Big Theta')\n",
        "plt.xlabel('Input size')\n",
        "plt.ylabel('Time taken')\n",
        "plt.title('Algorithm benchmarking')\n",
        "plt.legend()\n",
        "plt.show()\n"
      ],
      "metadata": {
        "colab": {
          "base_uri": "https://localhost:8080/",
          "height": 295
        },
        "id": "JYdmLzyBLEul",
        "outputId": "801c2511-a8da-42ef-cdc6-adf9e635f587"
      },
      "execution_count": 17,
      "outputs": [
        {
          "output_type": "display_data",
          "data": {
            "text/plain": [
              "<Figure size 432x288 with 1 Axes>"
            ],
            "image/png": "[encoded data removed]"
          },
          "metadata": {
            "needs_background": "light"
          }
        }
      ]
    },
    {
      "cell_type": "code",
      "source": [
        "import timeit\n",
        "import random\n",
        "\n",
        "# Algorithm 1: Using a for loop to calculate the sum\n",
        "def sum_using_for_loop(lst):\n",
        "    total = 0\n",
        "    for num in lst:\n",
        "        total += num\n",
        "    return total\n",
        "\n",
        "# Algorithm 2: Using the built-in sum() function\n",
        "def sum_using_builtin(lst):\n",
        "    return sum(lst)\n",
        "\n",
        "# Algorithm 3: Using numpy's sum() function\n",
        "import numpy as np\n",
        "def sum_using_numpy(lst):\n",
        "    return np.sum(lst)\n",
        "\n",
        "# Generate a list of random numbers to test the algorithms\n",
        "lst = [random.randint(1, 1000) for _ in range(1000000)]\n",
        "\n",
        "# Benchmark each algorithm and print the time taken\n",
        "t1 = timeit.timeit(lambda: sum_using_for_loop(lst), number=100)\n",
        "t2 = timeit.timeit(lambda: sum_using_builtin(lst), number=100)\n",
        "t3 = timeit.timeit(lambda: sum_using_numpy(lst), number=100)\n",
        "\n",
        "print(\"Algorithm 1 (for loop):\", t1)\n",
        "print(\"Algorithm 2 (builtin sum):\", t2)\n",
        "print(\"Algorithm 3 (numpy sum):\", t3)\n",
        "\n",
        "# Choose the fastest algorithm\n",
        "if t1 < t2 and t1 < t3:\n",
        "    print(\"Algorithm 1 (for loop) is the fastest.\")\n",
        "elif t2 < t1 and t2 < t3:\n",
        "    print(\"Algorithm 2 (builtin sum) is the fastest.\")\n",
        "else:\n",
        "    print(\"Algorithm 3 (numpy sum) is the fastest.\")\n"
      ],
      "metadata": {
        "colab": {
          "base_uri": "https://localhost:8080/"
        },
        "id": "mUSyJNdaLnnR",
        "outputId": "6432932f-9817-4319-de77-3e1adde1a46c"
      },
      "execution_count": 18,
      "outputs": [
        {
          "output_type": "stream",
          "name": "stdout",
          "text": [
            "Algorithm 1 (for loop): 5.888585886999863\n",
            "Algorithm 2 (builtin sum): 0.5970442590000857\n",
            "Algorithm 3 (numpy sum): 8.407537173000037\n",
            "Algorithm 2 (builtin sum) is the fastest.\n"
          ]
        }
      ]
    },
    {
      "cell_type": "code",
      "source": [
        "import timeit\n",
        "import random\n",
        "import matplotlib.pyplot as plt\n",
        "\n",
        "# Algorithm 1: Using a for loop to calculate the sum\n",
        "def sum_using_for_loop(lst):\n",
        "    total = 0\n",
        "    for num in lst:\n",
        "        total += num\n",
        "    return total\n",
        "\n",
        "# Algorithm 2: Using the built-in sum() function\n",
        "def sum_using_builtin(lst):\n",
        "    return sum(lst)\n",
        "\n",
        "# Algorithm 3: Using numpy's sum() function\n",
        "import numpy as np\n",
        "def sum_using_numpy(lst):\n",
        "    return np.sum(lst)\n",
        "\n",
        "# Generate a list of random numbers to test the algorithms\n",
        "lst = [random.randint(1, 1000) for _ in range(1000000)]\n",
        "\n",
        "# Benchmark each algorithm and plot the results\n",
        "n = [10**i for i in range(1, 7)]\n",
        "t1 = []\n",
        "t2 = []\n",
        "t3 = []\n",
        "for size in n:\n",
        "    sublist = lst[:size]\n",
        "    t1.append(timeit.timeit(lambda: sum_using_for_loop(sublist), number=100))\n",
        "    t2.append(timeit.timeit(lambda: sum_using_builtin(sublist), number=100))\n",
        "    t3.append(timeit.timeit(lambda: sum_using_numpy(sublist), number=100))\n",
        "\n",
        "plt.plot(n, t1, label=\"Algorithm 1 (for loop)\")\n",
        "plt.plot(n, t2, label=\"Algorithm 2 (builtin sum)\")\n",
        "plt.plot(n, t3, label=\"Algorithm 3 (numpy sum)\")\n",
        "plt.xlabel(\"Input Size (n)\")\n",
        "plt.ylabel(\"Time (s)\")\n",
        "plt.legend()\n",
        "plt.show()\n",
        "\n",
        "# Choose the fastest algorithm\n",
        "if min(t1) < min(t2) and min(t1) < min(t3):\n",
        "    print(\"Algorithm 1 (for loop) is the fastest.\")\n",
        "elif min(t2) < min(t1) and min(t2) < min(t3):\n",
        "    print(\"Algorithm 2 (builtin sum) is the fastest.\")\n",
        "else:\n",
        "    print(\"Algorithm 3 (numpy sum) is the fastest.\")\n"
      ],
      "metadata": {
        "colab": {
          "base_uri": "https://localhost:8080/",
          "height": 299
        },
        "id": "M4oUenasMBrM",
        "outputId": "13f57f93-1a6f-45f6-8d35-b842d9674e1d"
      },
      "execution_count": 19,
      "outputs": [
        {
          "output_type": "display_data",
          "data": {
            "text/plain": [
              "<Figure size 432x288 with 1 Axes>"
            ],
            "image/png": "[encoded data removed]"
          },
          "metadata": {
            "needs_background": "light"
          }
        },
        {
          "output_type": "stream",
          "name": "stdout",
          "text": [
            "Algorithm 2 (builtin sum) is the fastest.\n"
          ]
        }
      ]
    },
    {
      "cell_type": "code",
      "source": [
        "import numpy as np\n",
        "import time\n",
        "\n",
        "def matrix_mult(a, b):\n",
        "    c = np.zeros((2,2))\n",
        "    c[0,0] = a[0,0]*b[0,0] + a[0,1]*b[1,0]\n",
        "    c[0,1] = a[0,0]*b[0,1] + a[0,1]*b[1,1]\n",
        "    c[1,0] = a[1,0]*b[0,0] + a[1,1]*b[1,0]\n",
        "    c[1,1] = a[1,0]*b[0,1] + a[1,1]*b[1,1]\n",
        "    return c\n",
        "\n",
        "# generate two random 2x2 matrices\n",
        "a = np.random.rand(2,2)\n",
        "b = np.random.rand(2,2)\n",
        "\n",
        "# benchmark matrix multiplication using Python's time module\n",
        "n_trials = 100000\n",
        "start = time.time()\n",
        "for i in range(n_trials):\n",
        "    c = matrix_mult(a, b)\n",
        "end = time.time()\n",
        "elapsed_time = end - start\n",
        "avg_time = elapsed_time / n_trials\n",
        "\n",
        "print(\"Average time taken for matrix multiplication:\", avg_time)\n"
      ],
      "metadata": {
        "colab": {
          "base_uri": "https://localhost:8080/"
        },
        "id": "49wFWNIvMaJJ",
        "outputId": "bee9baca-0d5d-4147-ad40-cdea8066b3d1"
      },
      "execution_count": 20,
      "outputs": [
        {
          "output_type": "stream",
          "name": "stdout",
          "text": [
            "Average time taken for matrix multiplication: 3.7086749076843263e-06\n"
          ]
        }
      ]
    },
    {
      "cell_type": "code",
      "source": [
        "import numpy as np\n",
        "import timeit\n",
        "import matplotlib.pyplot as plt\n",
        "\n",
        "# define matrix multiplication algorithms\n",
        "def matrix_mult1(a, b):\n",
        "    c = np.zeros((2,2))\n",
        "    c[0,0] = a[0,0]*b[0,0] + a[0,1]*b[1,0]\n",
        "    c[0,1] = a[0,0]*b[0,1] + a[0,1]*b[1,1]\n",
        "    c[1,0] = a[1,0]*b[0,0] + a[1,1]*b[1,0]\n",
        "    c[1,1] = a[1,0]*b[0,1] + a[1,1]*b[1,1]\n",
        "    return c\n",
        "\n",
        "def matrix_mult2(a, b):\n",
        "    c = np.zeros((2,2))\n",
        "    c[0,0] = a[0,0]*b[0,0] + a[0,1]*b[1,0]\n",
        "    c[0,1] = a[0,0]*b[0,1] + a[0,1]*b[1,1]\n",
        "    c[1,0] = a[1,0]*b[0,0] + a[1,1]*b[1,0]\n",
        "    c[1,1] = a[1,0]*b[0,1] + a[1,1]*b[1,1]\n",
        "    return c\n",
        "\n",
        "def matrix_mult3(a, b):\n",
        "    c = np.zeros((2,2))\n",
        "    c[0,0] = a[0,0]*b[0,0] + a[0,1]*b[1,0]\n",
        "    c[0,1] = a[0,0]*b[0,1] + a[0,1]*b[1,1]\n",
        "    c[1,0] = a[1,0]*b[0,0] + a[1,1]*b[1,0]\n",
        "    c[1,1] = a[1,0]*b[0,1] + a[1,1]*b[1,1]\n",
        "    return c\n",
        "\n",
        "# generate two random 2x2 matrices\n",
        "a = np.random.rand(2,2)\n",
        "b = np.random.rand(2,2)\n",
        "\n",
        "# define benchmarking function\n",
        "def benchmark(algo):\n",
        "    t = timeit.Timer(lambda: algo(a,b))\n",
        "    return t.timeit(number=100000)/100000 # number of executions\n",
        "\n",
        "# benchmark matrix multiplication using different algorithms\n",
        "algos = [matrix_mult1, matrix_mult2, matrix_mult3]\n",
        "times = [benchmark(algo) for algo in algos]\n",
        "\n",
        "# plot the results\n",
        "labels = ['Method 1', 'Method 2', 'Method 3']\n",
        "plt.bar(labels, times)\n",
        "plt.ylabel('Time taken (seconds)')\n",
        "plt.xlabel('Algorithm')\n",
        "plt.title('Comparison of matrix multiplication algorithms')\n",
        "plt.show()\n",
        "\n",
        "# find the fastest algorithm\n",
        "fastest_algo = algos[np.argmin(times)]\n",
        "print(\"Fastest algorithm is:\", fastest_algo.__name__)\n"
      ],
      "metadata": {
        "colab": {
          "base_uri": "https://localhost:8080/",
          "height": 312
        },
        "id": "S3qnbJHWNIce",
        "outputId": "de6f6263-86ff-479e-8ac1-ce2266a37d39"
      },
      "execution_count": 21,
      "outputs": [
        {
          "output_type": "display_data",
          "data": {
            "text/plain": [
              "<Figure size 432x288 with 1 Axes>"
            ],
            "image/png": "[encoded data removed]"
          },
          "metadata": {
            "needs_background": "light"
          }
        },
        {
          "output_type": "stream",
          "name": "stdout",
          "text": [
            "Fastest algorithm is: matrix_mult3\n"
          ]
        }
      ]
    },
    {
      "cell_type": "code",
      "source": [
        "import numpy as np\n",
        "import timeit\n",
        "import matplotlib.pyplot as plt\n",
        "\n",
        "# define matrix multiplication algorithms\n",
        "def matrix_mult1(a, b):\n",
        "    c = np.zeros((2,2))\n",
        "    c[0,0] = a[0,0]*b[0,0] + a[0,1]*b[1,0]\n",
        "    c[0,1] = a[0,0]*b[0,1] + a[0,1]*b[1,1]\n",
        "    c[1,0] = a[1,0]*b[0,0] + a[1,1]*b[1,0]\n",
        "    c[1,1] = a[1,0]*b[0,1] + a[1,1]*b[1,1]\n",
        "    return c\n",
        "\n",
        "def matrix_mult2(a, b):\n",
        "    c = np.zeros((2,2))\n",
        "    c[0,0] = a[0,0]*b[0,0] + a[0,1]*b[1,0]\n",
        "    c[0,1] = a[0,0]*b[0,1] + a[0,1]*b[1,1]\n",
        "    c[1,0] = a[1,0]*b[0,0] + a[1,1]*b[1,0]\n",
        "    c[1,1] = a[1,0]*b[0,1] + a[1,1]*b[1,1]\n",
        "    return c\n",
        "\n",
        "def matrix_mult3(a, b):\n",
        "    c = np.zeros((2,2))\n",
        "    c[0,0] = a[0,0]*b[0,0] + a[0,1]*b[1,0]\n",
        "    c[0,1] = a[0,0]*b[0,1] + a[0,1]*b[1,1]\n",
        "    c[1,0] = a[1,0]*b[0,0] + a[1,1]*b[1,0]\n",
        "    c[1,1] = a[1,0]*b[0,1] + a[1,1]*b[1,1]\n",
        "    return c\n",
        "\n",
        "# define benchmarking function\n",
        "def benchmark(algo, a, b):\n",
        "    start_time = timeit.default_timer()\n",
        "    for i in range(100000):  # number of executions\n",
        "        algo(a, b)\n",
        "    end_time = timeit.default_timer()\n",
        "    time_taken = end_time - start_time\n",
        "    return time_taken / 100000\n",
        "\n",
        "# generate different input data sizes\n",
        "sizes = [10, 20, 30, 40, 50]\n",
        "\n",
        "# benchmark matrix multiplication using different algorithms and input data sizes\n",
        "times = []\n",
        "for size in sizes:\n",
        "    a = np.random.rand(size, size)\n",
        "    b = np.random.rand(size, size)\n",
        "    algos = [matrix_mult1, matrix_mult2, matrix_mult3]\n",
        "    times.append([benchmark(algo, a, b) for algo in algos])\n",
        "\n",
        "# plot the results\n",
        "labels = ['Method 1', 'Method 2', 'Method 3']\n",
        "for i in range(len(labels)):\n",
        "    plt.plot(sizes, [t[i] for t in times], label=labels[i])\n",
        "plt.xlabel('Input data size')\n",
        "plt.ylabel('Time taken (seconds)')\n",
        "plt.title('Time taken vs Input data size')\n",
        "plt.legend()\n",
        "plt.show()\n",
        "\n",
        "#find the fastest algorithm for the largest matrix size\n",
        "sizes = [10, 100, 1000, 5000]\n",
        "for size in sizes:\n",
        "print(\"Benchmarking for size\", size)\n",
        "a = np.random.rand(size, size)\n",
        "b = np.random.rand(size, size)\n",
        "times = [benchmark(algo) for algo in algos]\n",
        "labels = ['Method 1', 'Method 2', 'Method 3']\n",
        "plt.bar(labels, times)\n",
        "plt.ylabel('Time taken (seconds)')\n",
        "plt.xlabel('Algorithm')\n",
        "plt.title('Comparison of matrix multiplication algorithms (size = {})'.format(size))\n",
        "plt.show()\n",
        "fastest_algo = algos[np.argmin(times)]\n",
        "print(\"Fastest algorithm for size\", size, \"is:\", fastest_algo.name)\n"
      ],
      "metadata": {
        "colab": {
          "base_uri": "https://localhost:8080/",
          "height": 132
        },
        "id": "M8gEhux-SouX",
        "outputId": "7365074a-423b-4ad0-ef18-d954159bd07c"
      },
      "execution_count": 34,
      "outputs": [
        {
          "output_type": "error",
          "ename": "IndentationError",
          "evalue": "ignored",
          "traceback": [
            "\u001b[0;36m  File \u001b[0;32m\"<ipython-input-34-4fe39e3738e7>\"\u001b[0;36m, line \u001b[0;32m63\u001b[0m\n\u001b[0;31m    print(\"Benchmarking for size\", size)\u001b[0m\n\u001b[0m    ^\u001b[0m\n\u001b[0;31mIndentationError\u001b[0m\u001b[0;31m:\u001b[0m expected an indented block\n"
          ]
        }
      ]
    },
    {
      "cell_type": "code",
      "source": [
        "import numpy as np\n",
        "import time\n",
        "\n",
        "# matrix multiplication using nested loops\n",
        "def matrix_mult_1(a, b):\n",
        "    c = np.zeros((6, 6))\n",
        "    for i in range(6):\n",
        "        for j in range(6):\n",
        "            for k in range(6):\n",
        "                c[i][j] += a[i][k] * b[k][j]\n",
        "    return c\n",
        "\n",
        "# matrix multiplication using numpy dot product\n",
        "def matrix_mult_2(a, b):\n",
        "    return np.dot(a, b)\n",
        "\n",
        "# generate random matrices\n",
        "a = np.random.rand(6, 6)\n",
        "b = np.random.rand(6, 6)\n",
        "\n",
        "# benchmarking matrix multiplication using nested loops\n",
        "start_time = time.time()\n",
        "for i in range(100000):\n",
        "    matrix_mult_1(a, b)\n",
        "end_time = time.time()\n",
        "print(\"Time taken for matrix multiplication using nested loops:\", end_time - start_time)\n",
        "\n",
        "# benchmarking matrix multiplication using numpy dot product\n",
        "start_time = time.time()\n",
        "for i in range(100000):\n",
        "    matrix_mult_2(a, b)\n",
        "end_time = time.time()\n",
        "print(\"Time taken for matrix multiplication using numpy dot product:\", end_time - start_time)\n"
      ],
      "metadata": {
        "colab": {
          "base_uri": "https://localhost:8080/"
        },
        "id": "xcIol3_1Nhm-",
        "outputId": "c65d3dd9-1953-4ae5-c425-4c65d56e0a78"
      },
      "execution_count": 22,
      "outputs": [
        {
          "output_type": "stream",
          "name": "stdout",
          "text": [
            "Time taken for matrix multiplication using nested loops: 24.720411777496338\n",
            "Time taken for matrix multiplication using numpy dot product: 0.19758820533752441\n"
          ]
        }
      ]
    },
    {
      "cell_type": "code",
      "source": [
        "import numpy as np\n",
        "import time\n",
        "import matplotlib.pyplot as plt\n",
        "\n",
        "# matrix multiplication using nested loops\n",
        "def matrix_mult_1(a, b):\n",
        "    c = np.zeros((6, 6))\n",
        "    for i in range(6):\n",
        "        for j in range(6):\n",
        "            for k in range(6):\n",
        "                c[i][j] += a[i][k] * b[k][j]\n",
        "    return c\n",
        "\n",
        "# matrix multiplication using numpy dot product\n",
        "def matrix_mult_2(a, b):\n",
        "    return np.dot(a, b)\n",
        "\n",
        "# generate random matrices\n",
        "a = np.random.rand(6, 6)\n",
        "b = np.random.rand(6, 6)\n",
        "\n",
        "# benchmarking matrix multiplication using nested loops\n",
        "start_time = time.time()\n",
        "results_1 = []\n",
        "for i in range(100):\n",
        "    start = time.time()\n",
        "    matrix_mult_1(a, b)\n",
        "    end = time.time()\n",
        "    results_1.append(end - start)\n",
        "end_time = time.time()\n",
        "print(\"Time taken for matrix multiplication using nested loops:\", end_time - start_time)\n",
        "\n",
        "# benchmarking matrix multiplication using numpy dot product\n",
        "start_time = time.time()\n",
        "results_2 = []\n",
        "for i in range(100):\n",
        "    start = time.time()\n",
        "    matrix_mult_2(a, b)\n",
        "    end = time.time()\n",
        "    results_2.append(end - start)\n",
        "end_time = time.time()\n",
        "print(\"Time taken for matrix multiplication using numpy dot product:\", end_time - start_time)\n",
        "\n",
        "# plot the results\n",
        "plt.plot(results_1, label=\"Nested Loops\")\n",
        "plt.plot(results_2, label=\"NumPy Dot Product\")\n",
        "plt.legend()\n",
        "plt.xlabel(\"Iteration\")\n",
        "plt.ylabel(\"Time (s)\")\n",
        "plt.title(\"Matrix Multiplication Performance Comparison\")\n",
        "plt.show()\n"
      ],
      "metadata": {
        "colab": {
          "base_uri": "https://localhost:8080/",
          "height": 330
        },
        "id": "OmhtGAxSNt8m",
        "outputId": "24d59580-bcae-449e-9716-fc2e51b77992"
      },
      "execution_count": 23,
      "outputs": [
        {
          "output_type": "stream",
          "name": "stdout",
          "text": [
            "Time taken for matrix multiplication using nested loops: 0.023011207580566406\n",
            "Time taken for matrix multiplication using numpy dot product: 0.0004153251647949219\n"
          ]
        },
        {
          "output_type": "display_data",
          "data": {
            "text/plain": [
              "<Figure size 432x288 with 1 Axes>"
            ],
            "image/png": "[encoded data removed]"
          },
          "metadata": {
            "needs_background": "light"
          }
        }
      ]
    },
    {
      "cell_type": "code",
      "source": [
        "import cupy as cp\n",
        "import time\n",
        "\n",
        "a = cp.random.rand(6, 6)\n",
        "b = cp.random.rand(6, 6)\n",
        "\n",
        "# CPU version\n",
        "start_time = time.time()\n",
        "c_cpu = a.dot(b)\n",
        "cpu_time = time.time() - start_time\n",
        "\n",
        "# GPU version\n",
        "a_gpu = cp.asarray(a)\n",
        "b_gpu = cp.asarray(b)\n",
        "start_time = time.time()\n",
        "c_gpu = cp.dot(a_gpu, b_gpu)\n",
        "gpu_time = time.time() - start_time\n",
        "\n",
        "print(\"CPU time:\", cpu_time)\n",
        "print(\"GPU time:\", gpu_time)\n",
        "print(\"Speedup:\", cpu_time/gpu_time)\n",
        "print(\"Matrix multiplication result on CPU:\", c_cpu)\n",
        "print(\"Matrix multiplication result on GPU:\", c_gpu)\n"
      ],
      "metadata": {
        "colab": {
          "base_uri": "https://localhost:8080/",
          "height": 375
        },
        "id": "X5WUHzz9OABQ",
        "outputId": "d988895e-b1e5-46f9-d83a-ffc4cc2a6ca3"
      },
      "execution_count": 24,
      "outputs": [
        {
          "output_type": "error",
          "ename": "ModuleNotFoundError",
          "evalue": "ignored",
          "traceback": [
            "\u001b[0;31m---------------------------------------------------------------------------\u001b[0m",
            "\u001b[0;31mModuleNotFoundError\u001b[0m                       Traceback (most recent call last)",
            "\u001b[0;32m<ipython-input-24-56d59ef7269b>\u001b[0m in \u001b[0;36m<module>\u001b[0;34m\u001b[0m\n\u001b[0;32m----> 1\u001b[0;31m \u001b[0;32mimport\u001b[0m \u001b[0mcupy\u001b[0m \u001b[0;32mas\u001b[0m \u001b[0mcp\u001b[0m\u001b[0;34m\u001b[0m\u001b[0;34m\u001b[0m\u001b[0m\n\u001b[0m\u001b[1;32m      2\u001b[0m \u001b[0;32mimport\u001b[0m \u001b[0mtime\u001b[0m\u001b[0;34m\u001b[0m\u001b[0;34m\u001b[0m\u001b[0m\n\u001b[1;32m      3\u001b[0m \u001b[0;34m\u001b[0m\u001b[0m\n\u001b[1;32m      4\u001b[0m \u001b[0ma\u001b[0m \u001b[0;34m=\u001b[0m \u001b[0mcp\u001b[0m\u001b[0;34m.\u001b[0m\u001b[0mrandom\u001b[0m\u001b[0;34m.\u001b[0m\u001b[0mrand\u001b[0m\u001b[0;34m(\u001b[0m\u001b[0;36m6\u001b[0m\u001b[0;34m,\u001b[0m \u001b[0;36m6\u001b[0m\u001b[0;34m)\u001b[0m\u001b[0;34m\u001b[0m\u001b[0;34m\u001b[0m\u001b[0m\n\u001b[1;32m      5\u001b[0m \u001b[0mb\u001b[0m \u001b[0;34m=\u001b[0m \u001b[0mcp\u001b[0m\u001b[0;34m.\u001b[0m\u001b[0mrandom\u001b[0m\u001b[0;34m.\u001b[0m\u001b[0mrand\u001b[0m\u001b[0;34m(\u001b[0m\u001b[0;36m6\u001b[0m\u001b[0;34m,\u001b[0m \u001b[0;36m6\u001b[0m\u001b[0;34m)\u001b[0m\u001b[0;34m\u001b[0m\u001b[0;34m\u001b[0m\u001b[0m\n",
            "\u001b[0;31mModuleNotFoundError\u001b[0m: No module named 'cupy'",
            "",
            "\u001b[0;31m---------------------------------------------------------------------------\u001b[0;32m\nNOTE: If your import is failing due to a missing package, you can\nmanually install dependencies using either !pip or !apt.\n\nTo view examples of installing some common dependencies, click the\n\"Open Examples\" button below.\n\u001b[0;31m---------------------------------------------------------------------------\u001b[0m\n"
          ],
          "errorDetails": {
            "actions": [
              {
                "action": "open_url",
                "actionText": "Open Examples",
                "url": "/notebooks/snippets/importing_libraries.ipynb"
              }
            ]
          }
        }
      ]
    },
    {
      "cell_type": "code",
      "source": [
        "import numpy as np\n",
        "import time\n",
        "import matplotlib.pyplot as plt\n",
        "\n",
        "# matrix multiplication using nested loops\n",
        "def matrix_mult_1(a, b):\n",
        "    c = np.zeros((a.shape[0], b.shape[1]))\n",
        "    for i in range(a.shape[0]):\n",
        "        for j in range(b.shape[1]):\n",
        "            for k in range(a.shape[1]):\n",
        "                c[i][j] += a[i][k] * b[k][j]\n",
        "    return c\n",
        "\n",
        "# matrix multiplication using numpy dot product\n",
        "def matrix_mult_2(a, b):\n",
        "    return np.dot(a, b)\n",
        "\n",
        "# generate random matrices\n",
        "sizes = [10, 50, 100, 250, 500, 750, 1000, 1250, 1500]\n",
        "results_1 = []\n",
        "results_2 = []\n",
        "for size in sizes:\n",
        "    a = np.random.rand(size, size)\n",
        "    b = np.random.rand(size, size)\n",
        "\n",
        "    # benchmarking matrix multiplication using nested loops\n",
        "    start_time = time.time()\n",
        "    for i in range(10):\n",
        "        matrix_mult_1(a, b)\n",
        "    end_time = time.time()\n",
        "    results_1.append((end_time - start_time) / 10)\n",
        "\n",
        "    # benchmarking matrix multiplication using numpy dot product\n",
        "    start_time = time.time()\n",
        "    for i in range(10):\n",
        "        matrix_mult_2(a, b)\n",
        "    end_time = time.time()\n",
        "    results_2.append((end_time - start_time) / 10)\n",
        "\n",
        "# plot the results\n",
        "plt.plot(sizes, results_1, label=\"Nested Loops\")\n",
        "plt.plot(sizes, results_2, label=\"NumPy Dot Product\")\n",
        "plt.legend()\n",
        "plt.xlabel(\"Input Size\")\n",
        "plt.ylabel(\"Time (s)\")\n",
        "plt.title(\"Matrix Multiplication Performance Comparison\")\n",
        "plt.show()\n"
      ],
      "metadata": {
        "colab": {
          "base_uri": "https://localhost:8080/",
          "height": 357
        },
        "id": "h17-5aVqOgaM",
        "outputId": "9db3dea0-4810-41af-8bd1-4a3720cfe02f"
      },
      "execution_count": 26,
      "outputs": [
        {
          "output_type": "error",
          "ename": "KeyboardInterrupt",
          "evalue": "ignored",
          "traceback": [
            "\u001b[0;31m---------------------------------------------------------------------------\u001b[0m",
            "\u001b[0;31mKeyboardInterrupt\u001b[0m                         Traceback (most recent call last)",
            "\u001b[0;32m<ipython-input-26-0c8050da3081>\u001b[0m in \u001b[0;36m<module>\u001b[0;34m\u001b[0m\n\u001b[1;32m     27\u001b[0m     \u001b[0mstart_time\u001b[0m \u001b[0;34m=\u001b[0m \u001b[0mtime\u001b[0m\u001b[0;34m.\u001b[0m\u001b[0mtime\u001b[0m\u001b[0;34m(\u001b[0m\u001b[0;34m)\u001b[0m\u001b[0;34m\u001b[0m\u001b[0;34m\u001b[0m\u001b[0m\n\u001b[1;32m     28\u001b[0m     \u001b[0;32mfor\u001b[0m \u001b[0mi\u001b[0m \u001b[0;32min\u001b[0m \u001b[0mrange\u001b[0m\u001b[0;34m(\u001b[0m\u001b[0;36m10\u001b[0m\u001b[0;34m)\u001b[0m\u001b[0;34m:\u001b[0m\u001b[0;34m\u001b[0m\u001b[0;34m\u001b[0m\u001b[0m\n\u001b[0;32m---> 29\u001b[0;31m         \u001b[0mmatrix_mult_1\u001b[0m\u001b[0;34m(\u001b[0m\u001b[0ma\u001b[0m\u001b[0;34m,\u001b[0m \u001b[0mb\u001b[0m\u001b[0;34m)\u001b[0m\u001b[0;34m\u001b[0m\u001b[0;34m\u001b[0m\u001b[0m\n\u001b[0m\u001b[1;32m     30\u001b[0m     \u001b[0mend_time\u001b[0m \u001b[0;34m=\u001b[0m \u001b[0mtime\u001b[0m\u001b[0;34m.\u001b[0m\u001b[0mtime\u001b[0m\u001b[0;34m(\u001b[0m\u001b[0;34m)\u001b[0m\u001b[0;34m\u001b[0m\u001b[0;34m\u001b[0m\u001b[0m\n\u001b[1;32m     31\u001b[0m     \u001b[0mresults_1\u001b[0m\u001b[0;34m.\u001b[0m\u001b[0mappend\u001b[0m\u001b[0;34m(\u001b[0m\u001b[0;34m(\u001b[0m\u001b[0mend_time\u001b[0m \u001b[0;34m-\u001b[0m \u001b[0mstart_time\u001b[0m\u001b[0;34m)\u001b[0m \u001b[0;34m/\u001b[0m \u001b[0;36m10\u001b[0m\u001b[0;34m)\u001b[0m\u001b[0;34m\u001b[0m\u001b[0;34m\u001b[0m\u001b[0m\n",
            "\u001b[0;32m<ipython-input-26-0c8050da3081>\u001b[0m in \u001b[0;36mmatrix_mult_1\u001b[0;34m(a, b)\u001b[0m\n\u001b[1;32m      8\u001b[0m     \u001b[0;32mfor\u001b[0m \u001b[0mi\u001b[0m \u001b[0;32min\u001b[0m \u001b[0mrange\u001b[0m\u001b[0;34m(\u001b[0m\u001b[0ma\u001b[0m\u001b[0;34m.\u001b[0m\u001b[0mshape\u001b[0m\u001b[0;34m[\u001b[0m\u001b[0;36m0\u001b[0m\u001b[0;34m]\u001b[0m\u001b[0;34m)\u001b[0m\u001b[0;34m:\u001b[0m\u001b[0;34m\u001b[0m\u001b[0;34m\u001b[0m\u001b[0m\n\u001b[1;32m      9\u001b[0m         \u001b[0;32mfor\u001b[0m \u001b[0mj\u001b[0m \u001b[0;32min\u001b[0m \u001b[0mrange\u001b[0m\u001b[0;34m(\u001b[0m\u001b[0mb\u001b[0m\u001b[0;34m.\u001b[0m\u001b[0mshape\u001b[0m\u001b[0;34m[\u001b[0m\u001b[0;36m1\u001b[0m\u001b[0;34m]\u001b[0m\u001b[0;34m)\u001b[0m\u001b[0;34m:\u001b[0m\u001b[0;34m\u001b[0m\u001b[0;34m\u001b[0m\u001b[0m\n\u001b[0;32m---> 10\u001b[0;31m             \u001b[0;32mfor\u001b[0m \u001b[0mk\u001b[0m \u001b[0;32min\u001b[0m \u001b[0mrange\u001b[0m\u001b[0;34m(\u001b[0m\u001b[0ma\u001b[0m\u001b[0;34m.\u001b[0m\u001b[0mshape\u001b[0m\u001b[0;34m[\u001b[0m\u001b[0;36m1\u001b[0m\u001b[0;34m]\u001b[0m\u001b[0;34m)\u001b[0m\u001b[0;34m:\u001b[0m\u001b[0;34m\u001b[0m\u001b[0;34m\u001b[0m\u001b[0m\n\u001b[0m\u001b[1;32m     11\u001b[0m                 \u001b[0mc\u001b[0m\u001b[0;34m[\u001b[0m\u001b[0mi\u001b[0m\u001b[0;34m]\u001b[0m\u001b[0;34m[\u001b[0m\u001b[0mj\u001b[0m\u001b[0;34m]\u001b[0m \u001b[0;34m+=\u001b[0m \u001b[0ma\u001b[0m\u001b[0;34m[\u001b[0m\u001b[0mi\u001b[0m\u001b[0;34m]\u001b[0m\u001b[0;34m[\u001b[0m\u001b[0mk\u001b[0m\u001b[0;34m]\u001b[0m \u001b[0;34m*\u001b[0m \u001b[0mb\u001b[0m\u001b[0;34m[\u001b[0m\u001b[0mk\u001b[0m\u001b[0;34m]\u001b[0m\u001b[0;34m[\u001b[0m\u001b[0mj\u001b[0m\u001b[0;34m]\u001b[0m\u001b[0;34m\u001b[0m\u001b[0;34m\u001b[0m\u001b[0m\n\u001b[1;32m     12\u001b[0m     \u001b[0;32mreturn\u001b[0m \u001b[0mc\u001b[0m\u001b[0;34m\u001b[0m\u001b[0;34m\u001b[0m\u001b[0m\n",
            "\u001b[0;31mKeyboardInterrupt\u001b[0m: "
          ]
        }
      ]
    },
    {
      "cell_type": "code",
      "source": [
        "import numpy as np\n",
        "import time\n",
        "import matplotlib.pyplot as plt\n",
        "\n",
        "# determinant calculation using nested loops\n",
        "def det_1(matrix):\n",
        "    size = matrix.shape[0]\n",
        "    if size == 2:\n",
        "        return matrix[0][0]*matrix[1][1] - matrix[0][1]*matrix[1][0]\n",
        "    else:\n",
        "        det = 0\n",
        "        for j in range(size):\n",
        "            sub_matrix = np.zeros((size-1,size-1))\n",
        "            for i in range(1,size):\n",
        "                sub_matrix[i-1,:] = matrix[i,0:j]\n",
        "                sub_matrix[i-1,:].extend(matrix[i,j+1:])\n",
        "            sub_det = det_1(sub_matrix)\n",
        "            det += (-1)**j * matrix[0][j] * sub_det\n",
        "        return det\n",
        "\n",
        "# determinant calculation using numpy function\n",
        "def det_2(matrix):\n",
        "    return np.linalg.det(matrix)\n",
        "\n",
        "# generate random matrices\n",
        "sizes = [2, 5, 10, 20, 30, 40, 50, 75, 100]\n",
        "results_1 = []\n",
        "results_2 = []\n",
        "for size in sizes:\n",
        "    matrix = np.random.rand(size, size)\n",
        "\n",
        "    # benchmarking determinant calculation using nested loops\n",
        "    start_time = time.time()\n",
        "    for i in range(10):\n",
        "        det_1(matrix)\n",
        "    end_time = time.time()\n",
        "    results_1.append((end_time - start_time) / 10)\n",
        "\n",
        "    # benchmarking determinant calculation using numpy function\n",
        "    start_time = time.time()\n",
        "    for i in range(10):\n",
        "        det_2(matrix)\n",
        "    end_time = time.time()\n",
        "    results_2.append((end_time - start_time) / 10)\n",
        "\n",
        "# plot the results\n",
        "plt.plot(sizes, results_1, label=\"Nested Loops\")\n",
        "plt.plot(sizes, results_2, label=\"NumPy Function\")\n",
        "plt.legend()\n",
        "plt.xlabel(\"Input Size\")\n",
        "plt.ylabel(\"Time (s)\")\n",
        "plt.title(\"Determinant Calculation Performance Comparison\")\n",
        "plt.show()\n"
      ],
      "metadata": {
        "colab": {
          "base_uri": "https://localhost:8080/",
          "height": 357
        },
        "id": "Xp2BhcqSP7t9",
        "outputId": "6cea9946-ac39-47b6-87ea-fe896228339b"
      },
      "execution_count": 27,
      "outputs": [
        {
          "output_type": "error",
          "ename": "ValueError",
          "evalue": "ignored",
          "traceback": [
            "\u001b[0;31m---------------------------------------------------------------------------\u001b[0m",
            "\u001b[0;31mValueError\u001b[0m                                Traceback (most recent call last)",
            "\u001b[0;32m<ipython-input-27-4bc93ab4e97b>\u001b[0m in \u001b[0;36m<module>\u001b[0;34m\u001b[0m\n\u001b[1;32m     33\u001b[0m     \u001b[0mstart_time\u001b[0m \u001b[0;34m=\u001b[0m \u001b[0mtime\u001b[0m\u001b[0;34m.\u001b[0m\u001b[0mtime\u001b[0m\u001b[0;34m(\u001b[0m\u001b[0;34m)\u001b[0m\u001b[0;34m\u001b[0m\u001b[0;34m\u001b[0m\u001b[0m\n\u001b[1;32m     34\u001b[0m     \u001b[0;32mfor\u001b[0m \u001b[0mi\u001b[0m \u001b[0;32min\u001b[0m \u001b[0mrange\u001b[0m\u001b[0;34m(\u001b[0m\u001b[0;36m10\u001b[0m\u001b[0;34m)\u001b[0m\u001b[0;34m:\u001b[0m\u001b[0;34m\u001b[0m\u001b[0;34m\u001b[0m\u001b[0m\n\u001b[0;32m---> 35\u001b[0;31m         \u001b[0mdet_1\u001b[0m\u001b[0;34m(\u001b[0m\u001b[0mmatrix\u001b[0m\u001b[0;34m)\u001b[0m\u001b[0;34m\u001b[0m\u001b[0;34m\u001b[0m\u001b[0m\n\u001b[0m\u001b[1;32m     36\u001b[0m     \u001b[0mend_time\u001b[0m \u001b[0;34m=\u001b[0m \u001b[0mtime\u001b[0m\u001b[0;34m.\u001b[0m\u001b[0mtime\u001b[0m\u001b[0;34m(\u001b[0m\u001b[0;34m)\u001b[0m\u001b[0;34m\u001b[0m\u001b[0;34m\u001b[0m\u001b[0m\n\u001b[1;32m     37\u001b[0m     \u001b[0mresults_1\u001b[0m\u001b[0;34m.\u001b[0m\u001b[0mappend\u001b[0m\u001b[0;34m(\u001b[0m\u001b[0;34m(\u001b[0m\u001b[0mend_time\u001b[0m \u001b[0;34m-\u001b[0m \u001b[0mstart_time\u001b[0m\u001b[0;34m)\u001b[0m \u001b[0;34m/\u001b[0m \u001b[0;36m10\u001b[0m\u001b[0;34m)\u001b[0m\u001b[0;34m\u001b[0m\u001b[0;34m\u001b[0m\u001b[0m\n",
            "\u001b[0;32m<ipython-input-27-4bc93ab4e97b>\u001b[0m in \u001b[0;36mdet_1\u001b[0;34m(matrix)\u001b[0m\n\u001b[1;32m     13\u001b[0m             \u001b[0msub_matrix\u001b[0m \u001b[0;34m=\u001b[0m \u001b[0mnp\u001b[0m\u001b[0;34m.\u001b[0m\u001b[0mzeros\u001b[0m\u001b[0;34m(\u001b[0m\u001b[0;34m(\u001b[0m\u001b[0msize\u001b[0m\u001b[0;34m-\u001b[0m\u001b[0;36m1\u001b[0m\u001b[0;34m,\u001b[0m\u001b[0msize\u001b[0m\u001b[0;34m-\u001b[0m\u001b[0;36m1\u001b[0m\u001b[0;34m)\u001b[0m\u001b[0;34m)\u001b[0m\u001b[0;34m\u001b[0m\u001b[0;34m\u001b[0m\u001b[0m\n\u001b[1;32m     14\u001b[0m             \u001b[0;32mfor\u001b[0m \u001b[0mi\u001b[0m \u001b[0;32min\u001b[0m \u001b[0mrange\u001b[0m\u001b[0;34m(\u001b[0m\u001b[0;36m1\u001b[0m\u001b[0;34m,\u001b[0m\u001b[0msize\u001b[0m\u001b[0;34m)\u001b[0m\u001b[0;34m:\u001b[0m\u001b[0;34m\u001b[0m\u001b[0;34m\u001b[0m\u001b[0m\n\u001b[0;32m---> 15\u001b[0;31m                 \u001b[0msub_matrix\u001b[0m\u001b[0;34m[\u001b[0m\u001b[0mi\u001b[0m\u001b[0;34m-\u001b[0m\u001b[0;36m1\u001b[0m\u001b[0;34m,\u001b[0m\u001b[0;34m:\u001b[0m\u001b[0;34m]\u001b[0m \u001b[0;34m=\u001b[0m \u001b[0mmatrix\u001b[0m\u001b[0;34m[\u001b[0m\u001b[0mi\u001b[0m\u001b[0;34m,\u001b[0m\u001b[0;36m0\u001b[0m\u001b[0;34m:\u001b[0m\u001b[0mj\u001b[0m\u001b[0;34m]\u001b[0m\u001b[0;34m\u001b[0m\u001b[0;34m\u001b[0m\u001b[0m\n\u001b[0m\u001b[1;32m     16\u001b[0m                 \u001b[0msub_matrix\u001b[0m\u001b[0;34m[\u001b[0m\u001b[0mi\u001b[0m\u001b[0;34m-\u001b[0m\u001b[0;36m1\u001b[0m\u001b[0;34m,\u001b[0m\u001b[0;34m:\u001b[0m\u001b[0;34m]\u001b[0m\u001b[0;34m.\u001b[0m\u001b[0mextend\u001b[0m\u001b[0;34m(\u001b[0m\u001b[0mmatrix\u001b[0m\u001b[0;34m[\u001b[0m\u001b[0mi\u001b[0m\u001b[0;34m,\u001b[0m\u001b[0mj\u001b[0m\u001b[0;34m+\u001b[0m\u001b[0;36m1\u001b[0m\u001b[0;34m:\u001b[0m\u001b[0;34m]\u001b[0m\u001b[0;34m)\u001b[0m\u001b[0;34m\u001b[0m\u001b[0;34m\u001b[0m\u001b[0m\n\u001b[1;32m     17\u001b[0m             \u001b[0msub_det\u001b[0m \u001b[0;34m=\u001b[0m \u001b[0mdet_1\u001b[0m\u001b[0;34m(\u001b[0m\u001b[0msub_matrix\u001b[0m\u001b[0;34m)\u001b[0m\u001b[0;34m\u001b[0m\u001b[0;34m\u001b[0m\u001b[0m\n",
            "\u001b[0;31mValueError\u001b[0m: could not broadcast input array from shape (0,) into shape (4,)"
          ]
        }
      ]
    },
    {
      "cell_type": "code",
      "source": [
        "import numpy as np\n",
        "import time\n",
        "import matplotlib.pyplot as plt\n",
        "\n",
        "# determinant calculation using nested loops\n",
        "def det_1(matrix):\n",
        "    size = matrix.shape[0]\n",
        "    if size == 2:\n",
        "        return matrix[0][0]*matrix[1][1] - matrix[0][1]*matrix[1][0]\n",
        "    else:\n",
        "        det = 0\n",
        "        for j in range(size):\n",
        "            sub_matrix = np.zeros((size-1,size-1))\n",
        "            for i in range(1,size):\n",
        "                sub_matrix[i-1,:] = matrix[i,0:j]\n",
        "                sub_matrix[i-1,:].extend(matrix[i,j+1:])\n",
        "            sub_det = det_1(sub_matrix)\n",
        "            det += (-1)**j * matrix[0][j] * sub_det\n",
        "        return det\n",
        "\n",
        "# determinant calculation using numpy function\n",
        "def det_2(matrix):\n",
        "    return np.linalg.det(matrix)\n",
        "\n",
        "# generate random matrices\n",
        "sizes = [2, 5, 10, 20, 30, 40, 50, 75, 100]\n",
        "results_1 = []\n",
        "results_2 = []\n",
        "for size in sizes:\n",
        "    matrix = np.random.rand(size, size)\n",
        "\n",
        "    # benchmarking determinant calculation using nested loops\n",
        "    start_time = time.time()\n",
        "    for i in range(10):\n",
        "        det_1(matrix)\n",
        "    end_time = time.time()\n",
        "    results_1.append((end_time - start_time) / 10)\n",
        "\n",
        "    # benchmarking determinant calculation using numpy function\n",
        "    start_time = time.time()\n",
        "    for i in range(10):\n",
        "        det_2(matrix)\n",
        "    end_time = time.time()\n",
        "    results_2.append((end_time - start_time) / 10)\n",
        "\n",
        "# plot the results\n",
        "plt.plot(sizes, results_1, label=\"Nested Loops\")\n",
        "plt.plot(sizes, results_2, label=\"NumPy Function\")\n",
        "plt.legend()\n",
        "plt.xlabel(\"Input Size\")\n",
        "plt.ylabel(\"Time (s)\")\n",
        "plt.title(\"Determinant Calculation Performance Comparison\")\n",
        "plt.show()\n"
      ],
      "metadata": {
        "colab": {
          "base_uri": "https://localhost:8080/",
          "height": 357
        },
        "id": "QMEycK58QM6Y",
        "outputId": "677b2c7c-efd5-4b6b-ad97-1452318e15ce"
      },
      "execution_count": 28,
      "outputs": [
        {
          "output_type": "error",
          "ename": "ValueError",
          "evalue": "ignored",
          "traceback": [
            "\u001b[0;31m---------------------------------------------------------------------------\u001b[0m",
            "\u001b[0;31mValueError\u001b[0m                                Traceback (most recent call last)",
            "\u001b[0;32m<ipython-input-28-4bc93ab4e97b>\u001b[0m in \u001b[0;36m<module>\u001b[0;34m\u001b[0m\n\u001b[1;32m     33\u001b[0m     \u001b[0mstart_time\u001b[0m \u001b[0;34m=\u001b[0m \u001b[0mtime\u001b[0m\u001b[0;34m.\u001b[0m\u001b[0mtime\u001b[0m\u001b[0;34m(\u001b[0m\u001b[0;34m)\u001b[0m\u001b[0;34m\u001b[0m\u001b[0;34m\u001b[0m\u001b[0m\n\u001b[1;32m     34\u001b[0m     \u001b[0;32mfor\u001b[0m \u001b[0mi\u001b[0m \u001b[0;32min\u001b[0m \u001b[0mrange\u001b[0m\u001b[0;34m(\u001b[0m\u001b[0;36m10\u001b[0m\u001b[0;34m)\u001b[0m\u001b[0;34m:\u001b[0m\u001b[0;34m\u001b[0m\u001b[0;34m\u001b[0m\u001b[0m\n\u001b[0;32m---> 35\u001b[0;31m         \u001b[0mdet_1\u001b[0m\u001b[0;34m(\u001b[0m\u001b[0mmatrix\u001b[0m\u001b[0;34m)\u001b[0m\u001b[0;34m\u001b[0m\u001b[0;34m\u001b[0m\u001b[0m\n\u001b[0m\u001b[1;32m     36\u001b[0m     \u001b[0mend_time\u001b[0m \u001b[0;34m=\u001b[0m \u001b[0mtime\u001b[0m\u001b[0;34m.\u001b[0m\u001b[0mtime\u001b[0m\u001b[0;34m(\u001b[0m\u001b[0;34m)\u001b[0m\u001b[0;34m\u001b[0m\u001b[0;34m\u001b[0m\u001b[0m\n\u001b[1;32m     37\u001b[0m     \u001b[0mresults_1\u001b[0m\u001b[0;34m.\u001b[0m\u001b[0mappend\u001b[0m\u001b[0;34m(\u001b[0m\u001b[0;34m(\u001b[0m\u001b[0mend_time\u001b[0m \u001b[0;34m-\u001b[0m \u001b[0mstart_time\u001b[0m\u001b[0;34m)\u001b[0m \u001b[0;34m/\u001b[0m \u001b[0;36m10\u001b[0m\u001b[0;34m)\u001b[0m\u001b[0;34m\u001b[0m\u001b[0;34m\u001b[0m\u001b[0m\n",
            "\u001b[0;32m<ipython-input-28-4bc93ab4e97b>\u001b[0m in \u001b[0;36mdet_1\u001b[0;34m(matrix)\u001b[0m\n\u001b[1;32m     13\u001b[0m             \u001b[0msub_matrix\u001b[0m \u001b[0;34m=\u001b[0m \u001b[0mnp\u001b[0m\u001b[0;34m.\u001b[0m\u001b[0mzeros\u001b[0m\u001b[0;34m(\u001b[0m\u001b[0;34m(\u001b[0m\u001b[0msize\u001b[0m\u001b[0;34m-\u001b[0m\u001b[0;36m1\u001b[0m\u001b[0;34m,\u001b[0m\u001b[0msize\u001b[0m\u001b[0;34m-\u001b[0m\u001b[0;36m1\u001b[0m\u001b[0;34m)\u001b[0m\u001b[0;34m)\u001b[0m\u001b[0;34m\u001b[0m\u001b[0;34m\u001b[0m\u001b[0m\n\u001b[1;32m     14\u001b[0m             \u001b[0;32mfor\u001b[0m \u001b[0mi\u001b[0m \u001b[0;32min\u001b[0m \u001b[0mrange\u001b[0m\u001b[0;34m(\u001b[0m\u001b[0;36m1\u001b[0m\u001b[0;34m,\u001b[0m\u001b[0msize\u001b[0m\u001b[0;34m)\u001b[0m\u001b[0;34m:\u001b[0m\u001b[0;34m\u001b[0m\u001b[0;34m\u001b[0m\u001b[0m\n\u001b[0;32m---> 15\u001b[0;31m                 \u001b[0msub_matrix\u001b[0m\u001b[0;34m[\u001b[0m\u001b[0mi\u001b[0m\u001b[0;34m-\u001b[0m\u001b[0;36m1\u001b[0m\u001b[0;34m,\u001b[0m\u001b[0;34m:\u001b[0m\u001b[0;34m]\u001b[0m \u001b[0;34m=\u001b[0m \u001b[0mmatrix\u001b[0m\u001b[0;34m[\u001b[0m\u001b[0mi\u001b[0m\u001b[0;34m,\u001b[0m\u001b[0;36m0\u001b[0m\u001b[0;34m:\u001b[0m\u001b[0mj\u001b[0m\u001b[0;34m]\u001b[0m\u001b[0;34m\u001b[0m\u001b[0;34m\u001b[0m\u001b[0m\n\u001b[0m\u001b[1;32m     16\u001b[0m                 \u001b[0msub_matrix\u001b[0m\u001b[0;34m[\u001b[0m\u001b[0mi\u001b[0m\u001b[0;34m-\u001b[0m\u001b[0;36m1\u001b[0m\u001b[0;34m,\u001b[0m\u001b[0;34m:\u001b[0m\u001b[0;34m]\u001b[0m\u001b[0;34m.\u001b[0m\u001b[0mextend\u001b[0m\u001b[0;34m(\u001b[0m\u001b[0mmatrix\u001b[0m\u001b[0;34m[\u001b[0m\u001b[0mi\u001b[0m\u001b[0;34m,\u001b[0m\u001b[0mj\u001b[0m\u001b[0;34m+\u001b[0m\u001b[0;36m1\u001b[0m\u001b[0;34m:\u001b[0m\u001b[0;34m]\u001b[0m\u001b[0;34m)\u001b[0m\u001b[0;34m\u001b[0m\u001b[0;34m\u001b[0m\u001b[0m\n\u001b[1;32m     17\u001b[0m             \u001b[0msub_det\u001b[0m \u001b[0;34m=\u001b[0m \u001b[0mdet_1\u001b[0m\u001b[0;34m(\u001b[0m\u001b[0msub_matrix\u001b[0m\u001b[0;34m)\u001b[0m\u001b[0;34m\u001b[0m\u001b[0;34m\u001b[0m\u001b[0m\n",
            "\u001b[0;31mValueError\u001b[0m: could not broadcast input array from shape (0,) into shape (4,)"
          ]
        }
      ]
    },
    {
      "cell_type": "code",
      "source": [
        "import numpy as np\n",
        "import time\n",
        "import matplotlib.pyplot as plt\n",
        "\n",
        "# matrix determinant using numpy\n",
        "def determinant_1(a):\n",
        "    start_time = time.time()\n",
        "    det = np.linalg.det(a)\n",
        "    end_time = time.time()\n",
        "    steps = 1\n",
        "    time_per_step = (end_time - start_time) / steps\n",
        "    return det, steps, time_per_step\n",
        "\n",
        "# matrix determinant using LU decomposition\n",
        "def determinant_2(a):\n",
        "    start_time = time.time()\n",
        "    _, u = np.linalg.lu(a)\n",
        "    det = np.prod(np.diagonal(u))\n",
        "    end_time = time.time()\n",
        "    steps = a.shape[0]**3/3 - a.shape[0]**2/2 + a.shape[0]/6\n",
        "    time_per_step = (end_time - start_time) / steps\n",
        "    return det, steps, time_per_step\n",
        "\n",
        "# generate random matrices\n",
        "sizes = [10, 50, 100, 250, 500, 750, 1000, 1250, 1500]\n",
        "results_1 = []\n",
        "results_2 = []\n",
        "steps_1 = []\n",
        "steps_2 = []\n",
        "time_per_step_1 = []\n",
        "time_per_step_2 = []\n",
        "\n",
        "for size in sizes:\n",
        "    a = np.random.rand(size, size)\n",
        "\n",
        "    # benchmarking matrix determinant using numpy\n",
        "    det, steps, time_per_step = determinant_1(a)\n",
        "    results_1.append(time_per_step)\n",
        "    steps_1.append(steps)\n",
        "    time_per_step_1.append(time_per_step)\n",
        "\n",
        "    # benchmarking matrix determinant using LU decomposition\n",
        "    det, steps, time_per_step = determinant_2(a)\n",
        "    results_2.append(time_per_step)\n",
        "    steps_2.append(steps)\n",
        "    time_per_step_2.append(time_per_step)\n",
        "\n",
        "# plot the results\n",
        "plt.plot(sizes, results_1, label=\"Numpy\")\n",
        "plt.plot(sizes, results_2, label=\"LU Decomposition\")\n",
        "plt.legend()\n",
        "plt.xlabel(\"Input Size\")\n",
        "plt.ylabel(\"Time per step (s)\")\n",
        "plt.title(\"Matrix Determinant Performance Comparison\")\n",
        "plt.show()\n",
        "\n",
        "print(\"Steps and time per step for Numpy determinant:\\n\")\n",
        "for i in range(len(sizes)):\n",
        "    print(\"Input size:\", sizes[i], \"\\tSteps:\", steps_1[i], \"\\tTime per step:\", time_per_step_1[i])\n",
        "\n",
        "print(\"\\nSteps and time per step for LU decomposition determinant:\\n\")\n",
        "for i in range(len(sizes)):\n",
        "    print(\"Input size:\", sizes[i], \"\\tSteps:\", steps_2[i], \"\\tTime per step:\", time_per_step_2[i])\n"
      ],
      "metadata": {
        "colab": {
          "base_uri": "https://localhost:8080/",
          "height": 357
        },
        "id": "ObbmMmWUQfXq",
        "outputId": "fdd14732-b531-44f1-ffe3-2c5a3c9e45fb"
      },
      "execution_count": 29,
      "outputs": [
        {
          "output_type": "error",
          "ename": "AttributeError",
          "evalue": "ignored",
          "traceback": [
            "\u001b[0;31m---------------------------------------------------------------------------\u001b[0m",
            "\u001b[0;31mAttributeError\u001b[0m                            Traceback (most recent call last)",
            "\u001b[0;32m<ipython-input-29-a0d0bce7955f>\u001b[0m in \u001b[0;36m<module>\u001b[0;34m\u001b[0m\n\u001b[1;32m     41\u001b[0m \u001b[0;34m\u001b[0m\u001b[0m\n\u001b[1;32m     42\u001b[0m     \u001b[0;31m# benchmarking matrix determinant using LU decomposition\u001b[0m\u001b[0;34m\u001b[0m\u001b[0;34m\u001b[0m\u001b[0;34m\u001b[0m\u001b[0m\n\u001b[0;32m---> 43\u001b[0;31m     \u001b[0mdet\u001b[0m\u001b[0;34m,\u001b[0m \u001b[0msteps\u001b[0m\u001b[0;34m,\u001b[0m \u001b[0mtime_per_step\u001b[0m \u001b[0;34m=\u001b[0m \u001b[0mdeterminant_2\u001b[0m\u001b[0;34m(\u001b[0m\u001b[0ma\u001b[0m\u001b[0;34m)\u001b[0m\u001b[0;34m\u001b[0m\u001b[0;34m\u001b[0m\u001b[0m\n\u001b[0m\u001b[1;32m     44\u001b[0m     \u001b[0mresults_2\u001b[0m\u001b[0;34m.\u001b[0m\u001b[0mappend\u001b[0m\u001b[0;34m(\u001b[0m\u001b[0mtime_per_step\u001b[0m\u001b[0;34m)\u001b[0m\u001b[0;34m\u001b[0m\u001b[0;34m\u001b[0m\u001b[0m\n\u001b[1;32m     45\u001b[0m     \u001b[0msteps_2\u001b[0m\u001b[0;34m.\u001b[0m\u001b[0mappend\u001b[0m\u001b[0;34m(\u001b[0m\u001b[0msteps\u001b[0m\u001b[0;34m)\u001b[0m\u001b[0;34m\u001b[0m\u001b[0;34m\u001b[0m\u001b[0m\n",
            "\u001b[0;32m<ipython-input-29-a0d0bce7955f>\u001b[0m in \u001b[0;36mdeterminant_2\u001b[0;34m(a)\u001b[0m\n\u001b[1;32m     15\u001b[0m \u001b[0;32mdef\u001b[0m \u001b[0mdeterminant_2\u001b[0m\u001b[0;34m(\u001b[0m\u001b[0ma\u001b[0m\u001b[0;34m)\u001b[0m\u001b[0;34m:\u001b[0m\u001b[0;34m\u001b[0m\u001b[0;34m\u001b[0m\u001b[0m\n\u001b[1;32m     16\u001b[0m     \u001b[0mstart_time\u001b[0m \u001b[0;34m=\u001b[0m \u001b[0mtime\u001b[0m\u001b[0;34m.\u001b[0m\u001b[0mtime\u001b[0m\u001b[0;34m(\u001b[0m\u001b[0;34m)\u001b[0m\u001b[0;34m\u001b[0m\u001b[0;34m\u001b[0m\u001b[0m\n\u001b[0;32m---> 17\u001b[0;31m     \u001b[0m_\u001b[0m\u001b[0;34m,\u001b[0m \u001b[0mu\u001b[0m \u001b[0;34m=\u001b[0m \u001b[0mnp\u001b[0m\u001b[0;34m.\u001b[0m\u001b[0mlinalg\u001b[0m\u001b[0;34m.\u001b[0m\u001b[0mlu\u001b[0m\u001b[0;34m(\u001b[0m\u001b[0ma\u001b[0m\u001b[0;34m)\u001b[0m\u001b[0;34m\u001b[0m\u001b[0;34m\u001b[0m\u001b[0m\n\u001b[0m\u001b[1;32m     18\u001b[0m     \u001b[0mdet\u001b[0m \u001b[0;34m=\u001b[0m \u001b[0mnp\u001b[0m\u001b[0;34m.\u001b[0m\u001b[0mprod\u001b[0m\u001b[0;34m(\u001b[0m\u001b[0mnp\u001b[0m\u001b[0;34m.\u001b[0m\u001b[0mdiagonal\u001b[0m\u001b[0;34m(\u001b[0m\u001b[0mu\u001b[0m\u001b[0;34m)\u001b[0m\u001b[0;34m)\u001b[0m\u001b[0;34m\u001b[0m\u001b[0;34m\u001b[0m\u001b[0m\n\u001b[1;32m     19\u001b[0m     \u001b[0mend_time\u001b[0m \u001b[0;34m=\u001b[0m \u001b[0mtime\u001b[0m\u001b[0;34m.\u001b[0m\u001b[0mtime\u001b[0m\u001b[0;34m(\u001b[0m\u001b[0;34m)\u001b[0m\u001b[0;34m\u001b[0m\u001b[0;34m\u001b[0m\u001b[0m\n",
            "\u001b[0;31mAttributeError\u001b[0m: module 'numpy.linalg' has no attribute 'lu'"
          ]
        }
      ]
    },
    {
      "cell_type": "code",
      "source": [
        "import numpy as np\n",
        "import time\n",
        "import matplotlib.pyplot as plt\n",
        "\n",
        "# function to calculate determinant using numpy\n",
        "def determinant_1(a):\n",
        "    start_time = time.time()\n",
        "    det = np.linalg.det(a)\n",
        "    end_time = time.time()\n",
        "    time_taken = end_time - start_time\n",
        "    return det, time_taken\n",
        "\n",
        "# function to calculate determinant using LU decomposition\n",
        "def determinant_2(a):\n",
        "    start_time = time.time()\n",
        "    lu, piv = np.linalg.lu_factor(a)\n",
        "    sign = np.prod(np.diag(lu)) / np.abs(np.prod(np.diag(lu)))\n",
        "    det = sign * np.prod(np.diag(np.abs(lu)))\n",
        "    end_time = time.time()\n",
        "    time_taken = end_time - start_time\n",
        "    return det, time_taken\n",
        "\n",
        "# generate random matrices\n",
        "sizes = [10, 50, 100, 250, 500, 750, 1000, 1250, 1500]\n",
        "results_1 = []\n",
        "results_2 = []\n",
        "steps_1 = []\n",
        "steps_2 = []\n",
        "for size in sizes:\n",
        "    a = np.random.rand(size, size)\n",
        "\n",
        "    # calculate determinant using numpy\n",
        "    det_1, time_1 = determinant_1(a)\n",
        "    results_1.append(time_1)\n",
        "    steps_1.append(1)\n",
        "\n",
        "    # calculate determinant using LU decomposition\n",
        "    det_2, time_2 = determinant_2(a)\n",
        "    results_2.append(time_2)\n",
        "    steps_2.append(size**3 / 3 - size**2 / 2 + size / 6)\n",
        "\n",
        "# plot the results\n",
        "plt.plot(sizes, results_1, label=\"NumPy\")\n",
        "plt.plot(sizes, results_2, label=\"LU Decomposition\")\n",
        "plt.legend()\n",
        "plt.xlabel(\"Input Size\")\n",
        "plt.ylabel(\"Time (s)\")\n",
        "plt.title(\"Determinant Calculation Performance Comparison\")\n",
        "\n",
        "plt.figure()\n",
        "plt.plot(sizes, steps_1, label=\"NumPy\")\n",
        "plt.plot(sizes, steps_2, label=\"LU Decomposition\")\n",
        "plt.legend()\n",
        "plt.xlabel(\"Input Size\")\n",
        "plt.ylabel(\"Number of Steps\")\n",
        "plt.title(\"Determinant Calculation Step Comparison\")\n",
        "\n",
        "plt.show()\n"
      ],
      "metadata": {
        "colab": {
          "base_uri": "https://localhost:8080/",
          "height": 357
        },
        "id": "qSl7fdgPQy6j",
        "outputId": "58f45c06-fce6-409a-ab44-a6369fc97a34"
      },
      "execution_count": 32,
      "outputs": [
        {
          "output_type": "error",
          "ename": "AttributeError",
          "evalue": "ignored",
          "traceback": [
            "\u001b[0;31m---------------------------------------------------------------------------\u001b[0m",
            "\u001b[0;31mAttributeError\u001b[0m                            Traceback (most recent call last)",
            "\u001b[0;32m<ipython-input-32-699ac0f1d44c>\u001b[0m in \u001b[0;36m<module>\u001b[0;34m\u001b[0m\n\u001b[1;32m     36\u001b[0m \u001b[0;34m\u001b[0m\u001b[0m\n\u001b[1;32m     37\u001b[0m     \u001b[0;31m# calculate determinant using LU decomposition\u001b[0m\u001b[0;34m\u001b[0m\u001b[0;34m\u001b[0m\u001b[0;34m\u001b[0m\u001b[0m\n\u001b[0;32m---> 38\u001b[0;31m     \u001b[0mdet_2\u001b[0m\u001b[0;34m,\u001b[0m \u001b[0mtime_2\u001b[0m \u001b[0;34m=\u001b[0m \u001b[0mdeterminant_2\u001b[0m\u001b[0;34m(\u001b[0m\u001b[0ma\u001b[0m\u001b[0;34m)\u001b[0m\u001b[0;34m\u001b[0m\u001b[0;34m\u001b[0m\u001b[0m\n\u001b[0m\u001b[1;32m     39\u001b[0m     \u001b[0mresults_2\u001b[0m\u001b[0;34m.\u001b[0m\u001b[0mappend\u001b[0m\u001b[0;34m(\u001b[0m\u001b[0mtime_2\u001b[0m\u001b[0;34m)\u001b[0m\u001b[0;34m\u001b[0m\u001b[0;34m\u001b[0m\u001b[0m\n\u001b[1;32m     40\u001b[0m     \u001b[0msteps_2\u001b[0m\u001b[0;34m.\u001b[0m\u001b[0mappend\u001b[0m\u001b[0;34m(\u001b[0m\u001b[0msize\u001b[0m\u001b[0;34m**\u001b[0m\u001b[0;36m3\u001b[0m \u001b[0;34m/\u001b[0m \u001b[0;36m3\u001b[0m \u001b[0;34m-\u001b[0m \u001b[0msize\u001b[0m\u001b[0;34m**\u001b[0m\u001b[0;36m2\u001b[0m \u001b[0;34m/\u001b[0m \u001b[0;36m2\u001b[0m \u001b[0;34m+\u001b[0m \u001b[0msize\u001b[0m \u001b[0;34m/\u001b[0m \u001b[0;36m6\u001b[0m\u001b[0;34m)\u001b[0m\u001b[0;34m\u001b[0m\u001b[0;34m\u001b[0m\u001b[0m\n",
            "\u001b[0;32m<ipython-input-32-699ac0f1d44c>\u001b[0m in \u001b[0;36mdeterminant_2\u001b[0;34m(a)\u001b[0m\n\u001b[1;32m     14\u001b[0m \u001b[0;32mdef\u001b[0m \u001b[0mdeterminant_2\u001b[0m\u001b[0;34m(\u001b[0m\u001b[0ma\u001b[0m\u001b[0;34m)\u001b[0m\u001b[0;34m:\u001b[0m\u001b[0;34m\u001b[0m\u001b[0;34m\u001b[0m\u001b[0m\n\u001b[1;32m     15\u001b[0m     \u001b[0mstart_time\u001b[0m \u001b[0;34m=\u001b[0m \u001b[0mtime\u001b[0m\u001b[0;34m.\u001b[0m\u001b[0mtime\u001b[0m\u001b[0;34m(\u001b[0m\u001b[0;34m)\u001b[0m\u001b[0;34m\u001b[0m\u001b[0;34m\u001b[0m\u001b[0m\n\u001b[0;32m---> 16\u001b[0;31m     \u001b[0mlu\u001b[0m\u001b[0;34m,\u001b[0m \u001b[0mpiv\u001b[0m \u001b[0;34m=\u001b[0m \u001b[0mnp\u001b[0m\u001b[0;34m.\u001b[0m\u001b[0mlinalg\u001b[0m\u001b[0;34m.\u001b[0m\u001b[0mlu_factor\u001b[0m\u001b[0;34m(\u001b[0m\u001b[0ma\u001b[0m\u001b[0;34m)\u001b[0m\u001b[0;34m\u001b[0m\u001b[0;34m\u001b[0m\u001b[0m\n\u001b[0m\u001b[1;32m     17\u001b[0m     \u001b[0msign\u001b[0m \u001b[0;34m=\u001b[0m \u001b[0mnp\u001b[0m\u001b[0;34m.\u001b[0m\u001b[0mprod\u001b[0m\u001b[0;34m(\u001b[0m\u001b[0mnp\u001b[0m\u001b[0;34m.\u001b[0m\u001b[0mdiag\u001b[0m\u001b[0;34m(\u001b[0m\u001b[0mlu\u001b[0m\u001b[0;34m)\u001b[0m\u001b[0;34m)\u001b[0m \u001b[0;34m/\u001b[0m \u001b[0mnp\u001b[0m\u001b[0;34m.\u001b[0m\u001b[0mabs\u001b[0m\u001b[0;34m(\u001b[0m\u001b[0mnp\u001b[0m\u001b[0;34m.\u001b[0m\u001b[0mprod\u001b[0m\u001b[0;34m(\u001b[0m\u001b[0mnp\u001b[0m\u001b[0;34m.\u001b[0m\u001b[0mdiag\u001b[0m\u001b[0;34m(\u001b[0m\u001b[0mlu\u001b[0m\u001b[0;34m)\u001b[0m\u001b[0;34m)\u001b[0m\u001b[0;34m)\u001b[0m\u001b[0;34m\u001b[0m\u001b[0;34m\u001b[0m\u001b[0m\n\u001b[1;32m     18\u001b[0m     \u001b[0mdet\u001b[0m \u001b[0;34m=\u001b[0m \u001b[0msign\u001b[0m \u001b[0;34m*\u001b[0m \u001b[0mnp\u001b[0m\u001b[0;34m.\u001b[0m\u001b[0mprod\u001b[0m\u001b[0;34m(\u001b[0m\u001b[0mnp\u001b[0m\u001b[0;34m.\u001b[0m\u001b[0mdiag\u001b[0m\u001b[0;34m(\u001b[0m\u001b[0mnp\u001b[0m\u001b[0;34m.\u001b[0m\u001b[0mabs\u001b[0m\u001b[0;34m(\u001b[0m\u001b[0mlu\u001b[0m\u001b[0;34m)\u001b[0m\u001b[0;34m)\u001b[0m\u001b[0;34m)\u001b[0m\u001b[0;34m\u001b[0m\u001b[0;34m\u001b[0m\u001b[0m\n",
            "\u001b[0;31mAttributeError\u001b[0m: module 'numpy.linalg' has no attribute 'lu_factor'"
          ]
        }
      ]
    }
  ]
}