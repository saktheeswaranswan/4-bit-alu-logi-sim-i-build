{
  "nbformat": 4,
  "nbformat_minor": 0,
  "metadata": {
    "colab": {
      "provenance": [],
      "authorship_tag": "ABX9TyNZn7Kwj/Ago8ufXM30ayG2",
      "include_colab_link": true
    },
    "kernelspec": {
      "name": "python3",
      "display_name": "Python 3"
    },
    "language_info": {
      "name": "python"
    }
  },
  "cells": [
    {
      "cell_type": "markdown",
      "metadata": {
        "id": "view-in-github",
        "colab_type": "text"
      },
      "source": [
        "<a href=\"https://colab.research.google.com/github/saktheeswaranswan/4-bit-alu-logi-sim-i-build/blob/main/rar_file_unzip_in_colab_parts_file_.ipynb\" target=\"_parent\"><img src=\"https://colab.research.google.com/assets/colab-badge.svg\" alt=\"Open In Colab\"/></a>"
      ]
    },
    {
      "cell_type": "code",
      "execution_count": null,
      "metadata": {
        "id": "FujgnC6o2dgO"
      },
      "outputs": [],
      "source": [
        "!apt-get install -y unrar\n",
        "\n",
        "import os\n",
        "from getpass import getpass\n",
        "\n",
        "# Set the path to the .rar file parts\n",
        "rar_file_parts_path = \"/content/drive/MyDrive/udemy\"\n",
        "\n",
        "# Set the destination folder to extract the files\n",
        "destination_folder = \"/content/drive/MyDrive/desti\"\n",
        "\n",
        "# Get the password from the user\n",
        "password = getpass(\"Enter the password for the .rar file:\")\n",
        "\n",
        "# Combine the .rar file parts into a single .rar file\n",
        "os.chdir(rar_file_parts_path)\n",
        "os.system(\"cat 'Udemy.Applied.Machine.Learning.without.coding.using.Orange.3_p30download.com.part1.rar' \"\n",
        "          \"'Udemy.Applied.Machine.Learning.without.coding.using.Orange.3_p30download.com.part2.rar' \"\n",
        "          \"'Udemy.Applied.Machine.Learning.without.coding.using.Orange.3_p30download.com.part3.rar' \"\n",
        "          \"'Udemy.Applied.Machine.Learning.without.coding.using.Orange.3_p30download.com.part4.rar' \"\n",
        "          \"'Udemy.Applied.Machine.Learning.without.coding.using.Orange.3_p30download.com.part5.rar' > combined.rar\")\n",
        "\n",
        "# Unrar the combined .rar file\n",
        "unrar_command = f\"unrar x -p{password} combined.rar {destination_folder}\"\n",
        "os.system(unrar_command)\n"
      ]
    }
  ]
}