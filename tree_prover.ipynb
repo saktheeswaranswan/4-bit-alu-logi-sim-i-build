{
  "nbformat": 4,
  "nbformat_minor": 0,
  "metadata": {
    "colab": {
      "provenance": [],
      "authorship_tag": "ABX9TyOQ2aH00nfoeZEIRE5y28IN",
      "include_colab_link": true
    },
    "kernelspec": {
      "name": "python3",
      "display_name": "Python 3"
    },
    "language_info": {
      "name": "python"
    }
  },
  "cells": [
    {
      "cell_type": "markdown",
      "metadata": {
        "id": "view-in-github",
        "colab_type": "text"
      },
      "source": [
        "<a href=\"https://colab.research.google.com/github/saktheeswaranswan/4-bit-alu-logi-sim-i-build/blob/main/tree_prover.ipynb\" target=\"_parent\"><img src=\"https://colab.research.google.com/assets/colab-badge.svg\" alt=\"Open In Colab\"/></a>"
      ]
    },
    {
      "cell_type": "code",
      "source": [
        "import string\n",
        "\n",
        "# Define a Node class for the logic tree\n",
        "class Node:\n",
        "    def __init__(self, value, left=None, right=None):\n",
        "        self.value = value\n",
        "        self.left = left\n",
        "        self.right = right\n",
        "\n",
        "# Define a function to build the logic tree from a proposition\n",
        "def build_tree(prop):\n",
        "    stack = []\n",
        "    for token in prop:\n",
        "        if token in string.ascii_uppercase:\n",
        "            node = Node(token)\n",
        "            stack.append(node)\n",
        "        elif token == '~':\n",
        "            if not stack:\n",
        "                raise ValueError('Invalid proposition: missing operand for negation')\n",
        "            node = Node(token, right=stack.pop())\n",
        "            stack.append(node)\n",
        "        elif token in '&|>':\n",
        "            if len(stack) < 2:\n",
        "                raise ValueError('Invalid proposition: missing operands for binary operator')\n",
        "            node = Node(token, left=stack.pop(), right=stack.pop())\n",
        "            stack.append(node)\n",
        "    if not stack:\n",
        "        raise ValueError('Invalid proposition: empty proposition')\n",
        "    elif len(stack) > 1:\n",
        "        raise ValueError('Invalid proposition: too many operands')\n",
        "    return stack.pop()\n",
        "\n",
        "# Define a function to evaluate the logic tree and return True if the proposition is valid\n",
        "def evaluate(node, model={}):\n",
        "    if node.value in string.ascii_uppercase:\n",
        "        return model.get(node.value, False)\n",
        "    elif node.value == '~':\n",
        "        return not evaluate(node.right, model)\n",
        "    elif node.value == '&':\n",
        "        return evaluate(node.left, model) and evaluate(node.right, model)\n",
        "    elif node.value == '|':\n",
        "        return evaluate(node.left, model) or evaluate(node.right, model)\n",
        "    elif node.value == '>':\n",
        "        return not evaluate(node.left, model) or evaluate(node.right, model)\n",
        "\n",
        "# Define a function to print the logic tree in a readable format\n",
        "def print_tree(node, level=0):\n",
        "    if node.right is not None:\n",
        "        print_tree(node.right, level + 1)\n",
        "    print(' ' * 4 * level + str(node.value))\n",
        "    if node.left is not None:\n",
        "        print_tree(node.left, level + 1)\n",
        "\n",
        "# Define a function to generate all possible truth values for the variables in the proposition\n",
        "def generate_models():\n",
        "    for i in range(2 ** 26):\n",
        "        model = {}\n",
        "        for j, letter in enumerate(string.ascii_uppercase):\n",
        "            model[letter] = bool((i >> j) & 1)\n",
        "        yield model\n",
        "\n",
        "# Define the main function to prompt the user for a proposition and print the logic tree and whether the proposition is valid\n",
        "def main():\n",
        "    prop = input('Enter a proposition using English letters as variables: ')\n",
        "    try:\n",
        "        tree = build_tree(prop)\n",
        "    except ValueError as e:\n",
        "        print(e)\n",
        "        return\n",
        "    print_tree(tree)\n",
        "    for model in generate_models():\n",
        "        if not evaluate(tree, model):\n",
        "            break\n",
        "    else:\n",
        "        print('*** The proposition is valid ***')\n",
        "\n",
        "if __name__ == '__main__':\n",
        "    main()\n"
      ],
      "metadata": {
        "colab": {
          "base_uri": "https://localhost:8080/"
        },
        "id": "lBt4jtrv1yhk",
        "outputId": "5a49ff29-4784-4bbb-f1da-dcc03ac6ee9e"
      },
      "execution_count": 3,
      "outputs": [
        {
          "output_type": "stream",
          "name": "stdout",
          "text": [
            "Enter a proposition using English letters as variables: ((P | Q) & ~(P & Q)) > (P ^ Q)\n",
            "Invalid proposition: missing operands for binary operator\n"
          ]
        }
      ]
    },
    {
      "cell_type": "code",
      "source": [
        "import string\n",
        "\n",
        "class Node:\n",
        "    def __init__(self, value, left=None, right=None):\n",
        "        self.value = value\n",
        "        self.left = left\n",
        "        self.right = right\n",
        "\n",
        "    def __str__(self):\n",
        "        if self.left is None and self.right is None:\n",
        "            return str(self.value)\n",
        "        return f'({self.left} {self.value} {self.right})'\n",
        "\n",
        "def build_tree(prop):\n",
        "    stack = []\n",
        "    for token in prop:\n",
        "        if token in string.ascii_uppercase:\n",
        "            node = Node(token)\n",
        "            stack.append(node)\n",
        "        elif token == '~':\n",
        "            if not stack:\n",
        "                raise ValueError('Invalid proposition: missing operand for negation')\n",
        "            node = Node(token, right=stack.pop())\n",
        "            stack.append(node)\n",
        "        elif token in '&|>':\n",
        "            if len(stack) < 2:\n",
        "                raise ValueError('Invalid proposition: missing operands for binary operator')\n",
        "            node = Node(token, left=stack.pop(), right=stack.pop())\n",
        "            stack.append(node)\n",
        "    if not stack:\n",
        "        raise ValueError('Invalid proposition: empty proposition')\n",
        "    elif len(stack) > 1:\n",
        "        raise ValueError('Invalid proposition: too many operands')\n",
        "    return stack.pop()\n",
        "\n",
        "def is_valid_proposition(prop):\n",
        "    try:\n",
        "        tree = build_tree(prop)\n",
        "        return True\n",
        "    except ValueError:\n",
        "        return False\n",
        "\n",
        "prop = input(\"Enter a proposition: \")\n",
        "if is_valid_proposition(prop):\n",
        "    tree = build_tree(prop)\n",
        "    print(f\"Logic tree for proposition '{prop}':\")\n",
        "    print(f\"*{tree}*\")\n",
        "    print(\"The statement is valid.\")\n",
        "else:\n",
        "    print(f\"The proposition '{prop}' is invalid.\")\n"
      ],
      "metadata": {
        "colab": {
          "base_uri": "https://localhost:8080/"
        },
        "id": "sGH55KbW2e-8",
        "outputId": "291f4a35-3a89-49e2-b94a-3965522697b1"
      },
      "execution_count": 6,
      "outputs": [
        {
          "output_type": "stream",
          "name": "stdout",
          "text": [
            "Enter a proposition: ((P | Q) & ~(P & Q)) > (P ^ Q)\n",
            "The proposition '((P | Q) & ~(P & Q)) > (P ^ Q)' is invalid.\n"
          ]
        }
      ]
    }
  ]
}