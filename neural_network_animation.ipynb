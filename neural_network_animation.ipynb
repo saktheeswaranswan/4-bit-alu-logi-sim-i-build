{
  "nbformat": 4,
  "nbformat_minor": 0,
  "metadata": {
    "colab": {
      "provenance": [],
      "authorship_tag": "ABX9TyNULVPw/tBzuns/BAfwcoSG",
      "include_colab_link": true
    },
    "kernelspec": {
      "name": "python3",
      "display_name": "Python 3"
    },
    "language_info": {
      "name": "python"
    }
  },
  "cells": [
    {
      "cell_type": "markdown",
      "metadata": {
        "id": "view-in-github",
        "colab_type": "text"
      },
      "source": [
        "<a href=\"https://colab.research.google.com/github/saktheeswaranswan/4-bit-alu-logi-sim-i-build/blob/main/neural_network_animation.ipynb\" target=\"_parent\"><img src=\"https://colab.research.google.com/assets/colab-badge.svg\" alt=\"Open In Colab\"/></a>"
      ]
    },
    {
      "cell_type": "code",
      "execution_count": 7,
      "metadata": {
        "colab": {
          "base_uri": "https://localhost:8080/",
          "height": 34
        },
        "id": "5f8JolbRRONt",
        "outputId": "4ceead02-64bb-43bb-ce94-924e45d46158"
      },
      "outputs": [
        {
          "output_type": "display_data",
          "data": {
            "text/plain": [
              "<Figure size 432x288 with 0 Axes>"
            ]
          },
          "metadata": {}
        }
      ],
      "source": [
        "import numpy as np\n",
        "import matplotlib.pyplot as plt\n",
        "import networkx as nx\n",
        "from matplotlib.animation import FuncAnimation\n",
        "\n",
        "# Define the network architecture\n",
        "num_inputs = 2\n",
        "num_hidden_1 = 4\n",
        "num_hidden_2 = 3\n",
        "num_outputs = 1\n",
        "\n",
        "# Define the activation function\n",
        "def sigmoid(x):\n",
        "    return 1 / (1 + np.exp(-x))\n",
        "\n",
        "# Define the derivative of the activation function\n",
        "def sigmoid_derivative(x):\n",
        "    return sigmoid(x) * (1 - sigmoid(x))\n",
        "\n",
        "# Initialize the weights and biases\n",
        "w1 = np.random.randn(num_inputs, num_hidden_1)\n",
        "b1 = np.zeros((1, num_hidden_1))\n",
        "w2 = np.random.randn(num_hidden_1, num_hidden_2)\n",
        "b2 = np.zeros((1, num_hidden_2))\n",
        "w3 = np.random.randn(num_hidden_2, num_outputs)\n",
        "b3 = np.zeros((1, num_outputs))\n",
        "\n",
        "# Define the input data and target output\n",
        "X = np.array([[0, 0], [0, 1], [1, 0], [1, 1]])\n",
        "y = np.array([[0], [1], [1], [0]])\n",
        "\n",
        "# Create a graph of the neural network\n",
        "G = nx.DiGraph()\n",
        "\n",
        "G.add_nodes_from(['X0', 'X1', 'H1_0', 'H1_1', 'H1_2', 'H1_3', 'H2_0', 'H2_1', 'H2_2', 'Y'])\n",
        "G.add_edges_from([('X0', 'H1_0'), ('X0', 'H1_1'), ('X0', 'H1_2'), ('X0', 'H1_3'),\n",
        "                  ('X1', 'H1_0'), ('X1', 'H1_1'), ('X1', 'H1_2'), ('X1', 'H1_3'),\n",
        "                  ('H1_0', 'H2_0'), ('H1_0', 'H2_1'), ('H1_0', 'H2_2'),\n",
        "                  ('H1_1', 'H2_0'), ('H1_1', 'H2_1'), ('H1_1', 'H2_2'),\n",
        "                  ('H1_2', 'H2_0'), ('H1_2', 'H2_1'), ('H1_2', 'H2_2'),\n",
        "                  ('H1_3', 'H2_0'), ('H1_3', 'H2_1'), ('H1_3', 'H2_2'),\n",
        "                  ('H2_0', 'Y'), ('H2_1', 'Y'), ('H2_2', 'Y')])\n",
        "\n",
        "# Define the animation function\n",
        "def update(num):\n",
        "    # Forward propagation\n",
        "    z1 = np.dot(X, w1) + b1\n",
        "    a1 = sigmoid(z1)\n",
        "    z2 = np.dot(a1, w2) + b2\n",
        "    a2 = sigmoid(z2)\n",
        "    z3 = np.dot(a2, w3) + b3\n",
        "    y_pred = sigmoid(z3)\n",
        "\n",
        "        # Backward propagation\n",
        "    delta3 = (y_pred - y) * sigmoid_derivative(z3)\n",
        "    delta2 = np.dot(delta3, w3.T) * sigmoid_derivative(z2)\n",
        "    delta1 = np.dot(delta2, w2.T) * sigmoid_derivative(z1)\n",
        "\n",
        "    dw3 = np.dot(a2.T, delta3)\n",
        "    db3 = np.sum(delta3, axis=0, keepdims=True)\n",
        "    dw2 = np.dot(a1.T, delta2)\n",
        "    db2 = np.sum(delta2, axis=0)\n",
        "    dw1 = np.dot(X.T, delta1)\n",
        "    db1 = np.sum(delta1, axis=0)\n",
        "\n",
        "    # Update the weights and biases\n",
        "    learning_rate = 0.1\n",
        "    w3 -= learning_rate * dw3\n",
        "    b3 -= learning_rate * db3\n",
        "    w2 -= learning_rate * dw2\n",
        "    b2 -= learning_rate * db2\n",
        "    w1 -= learning_rate * dw1\n",
        "    b1 -= learning_rate * db1\n",
        "\n",
        "    # Update the node values and colors for the graph animation\n",
        "    node_values = {'X0': X[num, 0], 'X1': X[num, 1],\n",
        "                   'H1_0': a1[num, 0], 'H1_1': a1[num, 1], 'H1_2': a1[num, 2], 'H1_3': a1[num, 3],\n",
        "                   'H2_0': a2[num, 0], 'H2_1': a2[num, 1], 'H2_2': a2[num, 2],\n",
        "                   'Y': y_pred[num, 0]}\n",
        "    node_colors = ['red' if v >= 0.5 else 'white' for v in y_pred[num]]\n",
        "\n",
        "    # Draw the graph\n",
        "    plt.clf()\n",
        "    nx.draw(G, pos={'X0': (0, 1), 'X1': (0, 0), 'H1_0': (1, 1.25), 'H1_1': (1, 0.75),\n",
        "                     'H1_2': (1, 0.25), 'H1_3': (1, -0.25), 'H2_0': (2, 1), 'H2_1': (2, 0), 'H2_2': (2, -1),\n",
        "                     'Y': (3, 0)}, with_labels=True, node_color=node_colors, node_size=1500)\n",
        "    nx.draw_networkx_labels(G, pos={'X0': (0, 1), 'X1': (0, 0), 'H1_0': (1, 1.25), 'H1_1': (1, 0.75),\n",
        "                                    'H1_2': (1, 0.25), 'H1_3': (1, -0.25), 'H2_0': (2, 1), 'H2_1': (2, 0), 'H2_2': (2, -1),\n",
        "                                    'Y': (3, 0)}, labels=node_values)\n",
        "    plt.title('Neural Network\\nEpoch = {}'.format(num))\n",
        "    plt.axis('off')\n",
        "    plt.show()\n",
        "\n",
        "# Animate the graph for each epoch\n",
        "ani = FuncAnimation(plt.gcf(), update, frames=len(X), interval=1000, repeat=True)\n",
        "plt.show()\n",
        "\n"
      ]
    },
    {
      "cell_type": "code",
      "source": [
        "\n",
        "import matplotlib.animation as animation\n",
        "\n",
        "# Create the animation\n",
        "ani = FuncAnimation(plt.gcf(), update, frames=len(X), interval=1000, repeat=True)\n",
        "\n",
        "# Save the animation as a video file\n",
        "Writer = animation.writers['ffmpeg']\n",
        "writer = Writer(fps=1, metadata=dict(artist='Me'), bitrate=1800)\n",
        "ani.save('neural_network.mp4', writer=writer)\n"
      ],
      "metadata": {
        "colab": {
          "base_uri": "https://localhost:8080/",
          "height": 399
        },
        "id": "trZDPcxFSFak",
        "outputId": "fa0d5a92-75ad-4ae2-a0dd-0e15b18b7521"
      },
      "execution_count": 5,
      "outputs": [
        {
          "output_type": "error",
          "ename": "UnboundLocalError",
          "evalue": "ignored",
          "traceback": [
            "\u001b[0;31m---------------------------------------------------------------------------\u001b[0m",
            "\u001b[0;31mUnboundLocalError\u001b[0m                         Traceback (most recent call last)",
            "\u001b[0;32m<ipython-input-5-4b2e218151f6>\u001b[0m in \u001b[0;36m<module>\u001b[0;34m\u001b[0m\n\u001b[1;32m      7\u001b[0m \u001b[0mWriter\u001b[0m \u001b[0;34m=\u001b[0m \u001b[0manimation\u001b[0m\u001b[0;34m.\u001b[0m\u001b[0mwriters\u001b[0m\u001b[0;34m[\u001b[0m\u001b[0;34m'ffmpeg'\u001b[0m\u001b[0;34m]\u001b[0m\u001b[0;34m\u001b[0m\u001b[0;34m\u001b[0m\u001b[0m\n\u001b[1;32m      8\u001b[0m \u001b[0mwriter\u001b[0m \u001b[0;34m=\u001b[0m \u001b[0mWriter\u001b[0m\u001b[0;34m(\u001b[0m\u001b[0mfps\u001b[0m\u001b[0;34m=\u001b[0m\u001b[0;36m1\u001b[0m\u001b[0;34m,\u001b[0m \u001b[0mmetadata\u001b[0m\u001b[0;34m=\u001b[0m\u001b[0mdict\u001b[0m\u001b[0;34m(\u001b[0m\u001b[0martist\u001b[0m\u001b[0;34m=\u001b[0m\u001b[0;34m'Me'\u001b[0m\u001b[0;34m)\u001b[0m\u001b[0;34m,\u001b[0m \u001b[0mbitrate\u001b[0m\u001b[0;34m=\u001b[0m\u001b[0;36m1800\u001b[0m\u001b[0;34m)\u001b[0m\u001b[0;34m\u001b[0m\u001b[0;34m\u001b[0m\u001b[0m\n\u001b[0;32m----> 9\u001b[0;31m \u001b[0mani\u001b[0m\u001b[0;34m.\u001b[0m\u001b[0msave\u001b[0m\u001b[0;34m(\u001b[0m\u001b[0;34m'neural_network.mp4'\u001b[0m\u001b[0;34m,\u001b[0m \u001b[0mwriter\u001b[0m\u001b[0;34m=\u001b[0m\u001b[0mwriter\u001b[0m\u001b[0;34m)\u001b[0m\u001b[0;34m\u001b[0m\u001b[0;34m\u001b[0m\u001b[0m\n\u001b[0m",
            "\u001b[0;32m/usr/local/lib/python3.8/dist-packages/matplotlib/animation.py\u001b[0m in \u001b[0;36msave\u001b[0;34m(self, filename, writer, fps, dpi, codec, bitrate, extra_args, metadata, extra_anim, savefig_kwargs, progress_callback)\u001b[0m\n\u001b[1;32m   1133\u001b[0m                 \u001b[0;32mfor\u001b[0m \u001b[0manim\u001b[0m \u001b[0;32min\u001b[0m \u001b[0mall_anim\u001b[0m\u001b[0;34m:\u001b[0m\u001b[0;34m\u001b[0m\u001b[0;34m\u001b[0m\u001b[0m\n\u001b[1;32m   1134\u001b[0m                     \u001b[0;31m# Clear the initial frame\u001b[0m\u001b[0;34m\u001b[0m\u001b[0;34m\u001b[0m\u001b[0;34m\u001b[0m\u001b[0m\n\u001b[0;32m-> 1135\u001b[0;31m                     \u001b[0manim\u001b[0m\u001b[0;34m.\u001b[0m\u001b[0m_init_draw\u001b[0m\u001b[0;34m(\u001b[0m\u001b[0;34m)\u001b[0m\u001b[0;34m\u001b[0m\u001b[0;34m\u001b[0m\u001b[0m\n\u001b[0m\u001b[1;32m   1136\u001b[0m                 \u001b[0mframe_number\u001b[0m \u001b[0;34m=\u001b[0m \u001b[0;36m0\u001b[0m\u001b[0;34m\u001b[0m\u001b[0;34m\u001b[0m\u001b[0m\n\u001b[1;32m   1137\u001b[0m                 \u001b[0;31m# TODO: Currently only FuncAnimation has a save_count\u001b[0m\u001b[0;34m\u001b[0m\u001b[0;34m\u001b[0m\u001b[0;34m\u001b[0m\u001b[0m\n",
            "\u001b[0;32m/usr/local/lib/python3.8/dist-packages/matplotlib/animation.py\u001b[0m in \u001b[0;36m_init_draw\u001b[0;34m(self)\u001b[0m\n\u001b[1;32m   1741\u001b[0m         \u001b[0;31m# artists.\u001b[0m\u001b[0;34m\u001b[0m\u001b[0;34m\u001b[0m\u001b[0;34m\u001b[0m\u001b[0m\n\u001b[1;32m   1742\u001b[0m         \u001b[0;32mif\u001b[0m \u001b[0mself\u001b[0m\u001b[0;34m.\u001b[0m\u001b[0m_init_func\u001b[0m \u001b[0;32mis\u001b[0m \u001b[0;32mNone\u001b[0m\u001b[0;34m:\u001b[0m\u001b[0;34m\u001b[0m\u001b[0;34m\u001b[0m\u001b[0m\n\u001b[0;32m-> 1743\u001b[0;31m             \u001b[0mself\u001b[0m\u001b[0;34m.\u001b[0m\u001b[0m_draw_frame\u001b[0m\u001b[0;34m(\u001b[0m\u001b[0mnext\u001b[0m\u001b[0;34m(\u001b[0m\u001b[0mself\u001b[0m\u001b[0;34m.\u001b[0m\u001b[0mnew_frame_seq\u001b[0m\u001b[0;34m(\u001b[0m\u001b[0;34m)\u001b[0m\u001b[0;34m)\u001b[0m\u001b[0;34m)\u001b[0m\u001b[0;34m\u001b[0m\u001b[0;34m\u001b[0m\u001b[0m\n\u001b[0m\u001b[1;32m   1744\u001b[0m \u001b[0;34m\u001b[0m\u001b[0m\n\u001b[1;32m   1745\u001b[0m         \u001b[0;32melse\u001b[0m\u001b[0;34m:\u001b[0m\u001b[0;34m\u001b[0m\u001b[0;34m\u001b[0m\u001b[0m\n",
            "\u001b[0;32m/usr/local/lib/python3.8/dist-packages/matplotlib/animation.py\u001b[0m in \u001b[0;36m_draw_frame\u001b[0;34m(self, framedata)\u001b[0m\n\u001b[1;32m   1764\u001b[0m         \u001b[0;31m# Call the func with framedata and args. If blitting is desired,\u001b[0m\u001b[0;34m\u001b[0m\u001b[0;34m\u001b[0m\u001b[0;34m\u001b[0m\u001b[0m\n\u001b[1;32m   1765\u001b[0m         \u001b[0;31m# func needs to return a sequence of any artists that were modified.\u001b[0m\u001b[0;34m\u001b[0m\u001b[0;34m\u001b[0m\u001b[0;34m\u001b[0m\u001b[0m\n\u001b[0;32m-> 1766\u001b[0;31m         \u001b[0mself\u001b[0m\u001b[0;34m.\u001b[0m\u001b[0m_drawn_artists\u001b[0m \u001b[0;34m=\u001b[0m \u001b[0mself\u001b[0m\u001b[0;34m.\u001b[0m\u001b[0m_func\u001b[0m\u001b[0;34m(\u001b[0m\u001b[0mframedata\u001b[0m\u001b[0;34m,\u001b[0m \u001b[0;34m*\u001b[0m\u001b[0mself\u001b[0m\u001b[0;34m.\u001b[0m\u001b[0m_args\u001b[0m\u001b[0;34m)\u001b[0m\u001b[0;34m\u001b[0m\u001b[0;34m\u001b[0m\u001b[0m\n\u001b[0m\u001b[1;32m   1767\u001b[0m         \u001b[0;32mif\u001b[0m \u001b[0mself\u001b[0m\u001b[0;34m.\u001b[0m\u001b[0m_blit\u001b[0m\u001b[0;34m:\u001b[0m\u001b[0;34m\u001b[0m\u001b[0;34m\u001b[0m\u001b[0m\n\u001b[1;32m   1768\u001b[0m             \u001b[0;32mif\u001b[0m \u001b[0mself\u001b[0m\u001b[0;34m.\u001b[0m\u001b[0m_drawn_artists\u001b[0m \u001b[0;32mis\u001b[0m \u001b[0;32mNone\u001b[0m\u001b[0;34m:\u001b[0m\u001b[0;34m\u001b[0m\u001b[0;34m\u001b[0m\u001b[0m\n",
            "\u001b[0;32m<ipython-input-4-74025a46e620>\u001b[0m in \u001b[0;36mupdate\u001b[0;34m(num)\u001b[0m\n\u001b[1;32m     45\u001b[0m \u001b[0;32mdef\u001b[0m \u001b[0mupdate\u001b[0m\u001b[0;34m(\u001b[0m\u001b[0mnum\u001b[0m\u001b[0;34m)\u001b[0m\u001b[0;34m:\u001b[0m\u001b[0;34m\u001b[0m\u001b[0;34m\u001b[0m\u001b[0m\n\u001b[1;32m     46\u001b[0m     \u001b[0;31m# Forward propagation\u001b[0m\u001b[0;34m\u001b[0m\u001b[0;34m\u001b[0m\u001b[0;34m\u001b[0m\u001b[0m\n\u001b[0;32m---> 47\u001b[0;31m     \u001b[0mz1\u001b[0m \u001b[0;34m=\u001b[0m \u001b[0mnp\u001b[0m\u001b[0;34m.\u001b[0m\u001b[0mdot\u001b[0m\u001b[0;34m(\u001b[0m\u001b[0mX\u001b[0m\u001b[0;34m,\u001b[0m \u001b[0mw1\u001b[0m\u001b[0;34m)\u001b[0m \u001b[0;34m+\u001b[0m \u001b[0mb1\u001b[0m\u001b[0;34m\u001b[0m\u001b[0;34m\u001b[0m\u001b[0m\n\u001b[0m\u001b[1;32m     48\u001b[0m     \u001b[0ma1\u001b[0m \u001b[0;34m=\u001b[0m \u001b[0msigmoid\u001b[0m\u001b[0;34m(\u001b[0m\u001b[0mz1\u001b[0m\u001b[0;34m)\u001b[0m\u001b[0;34m\u001b[0m\u001b[0;34m\u001b[0m\u001b[0m\n\u001b[1;32m     49\u001b[0m     \u001b[0mz2\u001b[0m \u001b[0;34m=\u001b[0m \u001b[0mnp\u001b[0m\u001b[0;34m.\u001b[0m\u001b[0mdot\u001b[0m\u001b[0;34m(\u001b[0m\u001b[0ma1\u001b[0m\u001b[0;34m,\u001b[0m \u001b[0mw2\u001b[0m\u001b[0;34m)\u001b[0m \u001b[0;34m+\u001b[0m \u001b[0mb2\u001b[0m\u001b[0;34m\u001b[0m\u001b[0;34m\u001b[0m\u001b[0m\n",
            "\u001b[0;31mUnboundLocalError\u001b[0m: local variable 'w1' referenced before assignment"
          ]
        },
        {
          "output_type": "display_data",
          "data": {
            "text/plain": [
              "<Figure size 432x288 with 0 Axes>"
            ]
          },
          "metadata": {}
        }
      ]
    }
  ]
}