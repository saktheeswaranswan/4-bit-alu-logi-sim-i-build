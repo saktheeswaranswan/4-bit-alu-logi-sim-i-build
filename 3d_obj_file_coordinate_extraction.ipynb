{
  "nbformat": 4,
  "nbformat_minor": 0,
  "metadata": {
    "colab": {
      "provenance": [],
      "authorship_tag": "ABX9TyOoZtfKg2KSpCCLqGIPtxiy",
      "include_colab_link": true
    },
    "kernelspec": {
      "name": "python3",
      "display_name": "Python 3"
    },
    "language_info": {
      "name": "python"
    }
  },
  "cells": [
    {
      "cell_type": "markdown",
      "metadata": {
        "id": "view-in-github",
        "colab_type": "text"
      },
      "source": [
        "<a href=\"https://colab.research.google.com/github/saktheeswaranswan/4-bit-alu-logi-sim-i-build/blob/main/3d_obj_file_coordinate_extraction.ipynb\" target=\"_parent\"><img src=\"https://colab.research.google.com/assets/colab-badge.svg\" alt=\"Open In Colab\"/></a>"
      ]
    },
    {
      "cell_type": "code",
      "execution_count": 1,
      "metadata": {
        "id": "QGm0xZvU_i4a"
      },
      "outputs": [],
      "source": [
        "import csv\n",
        "\n",
        "# Open the obj file\n",
        "with open('/content/baby.obj', 'r') as f:\n",
        "    # Initialize empty lists for x, y, and z coordinates\n",
        "    x_coords = []\n",
        "    y_coords = []\n",
        "    z_coords = []\n",
        "\n",
        "    # Loop over each line in the file\n",
        "    for line in f:\n",
        "        # If the line starts with 'v', extract the coordinates\n",
        "        if line.startswith('v'):\n",
        "            coords = line.strip().split()[1:]\n",
        "            x_coords.append(coords[0])\n",
        "            y_coords.append(coords[1])\n",
        "            z_coords.append(coords[2])\n",
        "\n",
        "# Write the coordinates to a CSV file\n",
        "with open('output.csv', 'w', newline='') as f:\n",
        "    writer = csv.writer(f)\n",
        "    writer.writerow(['x', 'y', 'z'])\n",
        "    for x, y, z in zip(x_coords, y_coords, z_coords):\n",
        "        writer.writerow([x, y, z])\n"
      ]
    }
  ]
}